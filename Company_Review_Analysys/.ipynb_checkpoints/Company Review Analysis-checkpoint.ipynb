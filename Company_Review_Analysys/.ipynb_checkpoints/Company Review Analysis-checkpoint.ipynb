{
 "cells": [
  {
   "cell_type": "markdown",
   "id": "f7489083",
   "metadata": {},
   "source": [
    "# Company Reviews Analysis"
   ]
  },
  {
   "cell_type": "markdown",
   "id": "909ca00f",
   "metadata": {},
   "source": [
    "Kaggle에 있는 Blind에 올라온 기업 review data를 바탕으로, 해외 기업별 분위기 및 퇴사 이유 등을 분석해보고,\n",
    "기업별 점수대 비교 등을 진행해보고자 한다."
   ]
  },
  {
   "cell_type": "code",
   "execution_count": 1,
   "id": "c2a77864",
   "metadata": {},
   "outputs": [],
   "source": [
    "import numpy as np\n",
    "import pandas as pd\n",
    "import seaborn as sns\n",
    "import matplotlib.pyplot as plt"
   ]
  },
  {
   "cell_type": "markdown",
   "id": "6f2e3b1e",
   "metadata": {},
   "source": [
    "## Review_data example check"
   ]
  },
  {
   "cell_type": "markdown",
   "id": "b8e905ef",
   "metadata": {},
   "source": [
    "예시로, apple 리뷰 데이터를 한번 열람해보자."
   ]
  },
  {
   "cell_type": "code",
   "execution_count": 2,
   "id": "aefdea65",
   "metadata": {},
   "outputs": [],
   "source": [
    "sample_file = 'C:/Users/USER/Desktop/Data_projects/Company_Review_Analysys/reviews/Apple/apple-data.csv'\n",
    "sample_df = pd.read_csv(sample_file)"
   ]
  },
  {
   "cell_type": "code",
   "execution_count": 3,
   "id": "c792c260",
   "metadata": {},
   "outputs": [
    {
     "data": {
      "text/html": [
       "<div>\n",
       "<style scoped>\n",
       "    .dataframe tbody tr th:only-of-type {\n",
       "        vertical-align: middle;\n",
       "    }\n",
       "\n",
       "    .dataframe tbody tr th {\n",
       "        vertical-align: top;\n",
       "    }\n",
       "\n",
       "    .dataframe thead th {\n",
       "        text-align: right;\n",
       "    }\n",
       "</style>\n",
       "<table border=\"1\" class=\"dataframe\">\n",
       "  <thead>\n",
       "    <tr style=\"text-align: right;\">\n",
       "      <th></th>\n",
       "      <th>Rating</th>\n",
       "      <th>Description</th>\n",
       "      <th>Pros</th>\n",
       "      <th>Cons</th>\n",
       "      <th>Author Info</th>\n",
       "      <th>Resignation Reason</th>\n",
       "    </tr>\n",
       "  </thead>\n",
       "  <tbody>\n",
       "    <tr>\n",
       "      <th>0</th>\n",
       "      <td>3</td>\n",
       "      <td>Great projects but terrible wlb</td>\n",
       "      <td>Great projectsSmart engineersEveryone works ha...</td>\n",
       "      <td>No wlbNo remoteNo perks, just desk and wallsEv...</td>\n",
       "      <td>Verified User Current Employee W********* Acqu...</td>\n",
       "      <td>NaN</td>\n",
       "    </tr>\n",
       "    <tr>\n",
       "      <th>1</th>\n",
       "      <td>4</td>\n",
       "      <td>Good company overall</td>\n",
       "      <td>Good Job security. Never heard of layoffs. Goo...</td>\n",
       "      <td>Frequent re-orgs. Mandatory return to office p...</td>\n",
       "      <td>Verified User Current Employee q***** Software...</td>\n",
       "      <td>NaN</td>\n",
       "    </tr>\n",
       "    <tr>\n",
       "      <th>2</th>\n",
       "      <td>5</td>\n",
       "      <td>A</td>\n",
       "      <td>Good company, strong leader ship, believe in t...</td>\n",
       "      <td>No free food No hybrid work culture No perks p...</td>\n",
       "      <td>Verified User Current Employee C********* Engi...</td>\n",
       "      <td>NaN</td>\n",
       "    </tr>\n",
       "    <tr>\n",
       "      <th>3</th>\n",
       "      <td>5</td>\n",
       "      <td>Great company in general</td>\n",
       "      <td>Immediate managers are caringAble to start and...</td>\n",
       "      <td>Job is very monotonousNot much opportunities t...</td>\n",
       "      <td>Verified User Current Employee h********* Cont...</td>\n",
       "      <td>NaN</td>\n",
       "    </tr>\n",
       "    <tr>\n",
       "      <th>4</th>\n",
       "      <td>4</td>\n",
       "      <td>Poor wlb</td>\n",
       "      <td>Smart engineers, challenging problems, cloud a...</td>\n",
       "      <td>Limited growth, lots of politics, no wfh, comp...</td>\n",
       "      <td>Verified User Current Employee G***** Engineer...</td>\n",
       "      <td>NaN</td>\n",
       "    </tr>\n",
       "    <tr>\n",
       "      <th>...</th>\n",
       "      <td>...</td>\n",
       "      <td>...</td>\n",
       "      <td>...</td>\n",
       "      <td>...</td>\n",
       "      <td>...</td>\n",
       "      <td>...</td>\n",
       "    </tr>\n",
       "    <tr>\n",
       "      <th>1792</th>\n",
       "      <td>3</td>\n",
       "      <td>Depends on your team</td>\n",
       "      <td>Great benefits, great perks. Fun company-wide ...</td>\n",
       "      <td>It was really difficult to work with my team. ...</td>\n",
       "      <td>Verified User Current Employee u********* Mach...</td>\n",
       "      <td>NaN</td>\n",
       "    </tr>\n",
       "    <tr>\n",
       "      <th>1793</th>\n",
       "      <td>3</td>\n",
       "      <td>Wasn't the best</td>\n",
       "      <td>You have the opportunity to work with really s...</td>\n",
       "      <td>Zero opportunity for growth. It's difficult to...</td>\n",
       "      <td>Verified User Former Employee g***** Marketing...</td>\n",
       "      <td>Found a senior role at another company</td>\n",
       "    </tr>\n",
       "    <tr>\n",
       "      <th>1794</th>\n",
       "      <td>4</td>\n",
       "      <td>Dynamic Workplace</td>\n",
       "      <td>It's definitely not easy work. Things are alwa...</td>\n",
       "      <td>Work pressure is high. This can get really str...</td>\n",
       "      <td>Verified User Current Employee r***** Systems ...</td>\n",
       "      <td>NaN</td>\n",
       "    </tr>\n",
       "    <tr>\n",
       "      <th>1795</th>\n",
       "      <td>5</td>\n",
       "      <td>\"Great company with a culture that takes getti...</td>\n",
       "      <td>One thing I’ve learned from talking to people ...</td>\n",
       "      <td>As with lots of tech companies, there are many...</td>\n",
       "      <td>Verified User Current Employee B***** Software...</td>\n",
       "      <td>NaN</td>\n",
       "    </tr>\n",
       "    <tr>\n",
       "      <th>1796</th>\n",
       "      <td>4</td>\n",
       "      <td>Overall a great company, but NO WLB</td>\n",
       "      <td>Good pay, benefits, and culture. I love workin...</td>\n",
       "      <td>Zero work-life balance guaranteed. You always ...</td>\n",
       "      <td>Verified User Current Employee U***** Technica...</td>\n",
       "      <td>NaN</td>\n",
       "    </tr>\n",
       "  </tbody>\n",
       "</table>\n",
       "<p>1797 rows × 6 columns</p>\n",
       "</div>"
      ],
      "text/plain": [
       "      Rating                                        Description  \\\n",
       "0          3                    Great projects but terrible wlb   \n",
       "1          4                               Good company overall   \n",
       "2          5                                                  A   \n",
       "3          5                           Great company in general   \n",
       "4          4                                           Poor wlb   \n",
       "...      ...                                                ...   \n",
       "1792       3                               Depends on your team   \n",
       "1793       3                                    Wasn't the best   \n",
       "1794       4                                  Dynamic Workplace   \n",
       "1795       5  \"Great company with a culture that takes getti...   \n",
       "1796       4                Overall a great company, but NO WLB   \n",
       "\n",
       "                                                   Pros  \\\n",
       "0     Great projectsSmart engineersEveryone works ha...   \n",
       "1     Good Job security. Never heard of layoffs. Goo...   \n",
       "2     Good company, strong leader ship, believe in t...   \n",
       "3     Immediate managers are caringAble to start and...   \n",
       "4     Smart engineers, challenging problems, cloud a...   \n",
       "...                                                 ...   \n",
       "1792  Great benefits, great perks. Fun company-wide ...   \n",
       "1793  You have the opportunity to work with really s...   \n",
       "1794  It's definitely not easy work. Things are alwa...   \n",
       "1795  One thing I’ve learned from talking to people ...   \n",
       "1796  Good pay, benefits, and culture. I love workin...   \n",
       "\n",
       "                                                   Cons  \\\n",
       "0     No wlbNo remoteNo perks, just desk and wallsEv...   \n",
       "1     Frequent re-orgs. Mandatory return to office p...   \n",
       "2     No free food No hybrid work culture No perks p...   \n",
       "3     Job is very monotonousNot much opportunities t...   \n",
       "4     Limited growth, lots of politics, no wfh, comp...   \n",
       "...                                                 ...   \n",
       "1792  It was really difficult to work with my team. ...   \n",
       "1793  Zero opportunity for growth. It's difficult to...   \n",
       "1794  Work pressure is high. This can get really str...   \n",
       "1795  As with lots of tech companies, there are many...   \n",
       "1796  Zero work-life balance guaranteed. You always ...   \n",
       "\n",
       "                                            Author Info  \\\n",
       "0     Verified User Current Employee W********* Acqu...   \n",
       "1     Verified User Current Employee q***** Software...   \n",
       "2     Verified User Current Employee C********* Engi...   \n",
       "3     Verified User Current Employee h********* Cont...   \n",
       "4     Verified User Current Employee G***** Engineer...   \n",
       "...                                                 ...   \n",
       "1792  Verified User Current Employee u********* Mach...   \n",
       "1793  Verified User Former Employee g***** Marketing...   \n",
       "1794  Verified User Current Employee r***** Systems ...   \n",
       "1795  Verified User Current Employee B***** Software...   \n",
       "1796  Verified User Current Employee U***** Technica...   \n",
       "\n",
       "                          Resignation Reason  \n",
       "0                                        NaN  \n",
       "1                                        NaN  \n",
       "2                                        NaN  \n",
       "3                                        NaN  \n",
       "4                                        NaN  \n",
       "...                                      ...  \n",
       "1792                                     NaN  \n",
       "1793  Found a senior role at another company  \n",
       "1794                                     NaN  \n",
       "1795                                     NaN  \n",
       "1796                                     NaN  \n",
       "\n",
       "[1797 rows x 6 columns]"
      ]
     },
     "execution_count": 3,
     "metadata": {},
     "output_type": "execute_result"
    }
   ],
   "source": [
    "sample_df"
   ]
  },
  {
   "cell_type": "markdown",
   "id": "a85984b2",
   "metadata": {},
   "source": [
    "- Rating : 회사에 대한 평가\n",
    "- Description : 총평 요약\n",
    "- Pros : 장점.\n",
    "- cons : 단점.\n",
    "- Author Info : 쓴 사람에 대한 정보.\n",
    "- Resignation Reason : 퇴사 이유"
   ]
  },
  {
   "cell_type": "code",
   "execution_count": 4,
   "id": "4b4dfe3e",
   "metadata": {
    "scrolled": true
   },
   "outputs": [
    {
     "name": "stdout",
     "output_type": "stream",
     "text": [
      "<class 'pandas.core.frame.DataFrame'>\n",
      "RangeIndex: 1797 entries, 0 to 1796\n",
      "Data columns (total 6 columns):\n",
      " #   Column              Non-Null Count  Dtype \n",
      "---  ------              --------------  ----- \n",
      " 0   Rating              1797 non-null   int64 \n",
      " 1   Description         1797 non-null   object\n",
      " 2   Pros                1797 non-null   object\n",
      " 3   Cons                1797 non-null   object\n",
      " 4   Author Info         1797 non-null   object\n",
      " 5   Resignation Reason  54 non-null     object\n",
      "dtypes: int64(1), object(5)\n",
      "memory usage: 84.4+ KB\n"
     ]
    }
   ],
   "source": [
    "sample_df.info()"
   ]
  },
  {
   "cell_type": "markdown",
   "id": "2989eba2",
   "metadata": {},
   "source": [
    "다음은 Author info를 확인해 보자."
   ]
  },
  {
   "cell_type": "code",
   "execution_count": 7,
   "id": "1b39a338",
   "metadata": {},
   "outputs": [
    {
     "data": {
      "text/plain": [
       "'Verified User Current Employee W********* Acquisition Program Manager - May 6, 2022'"
      ]
     },
     "execution_count": 7,
     "metadata": {},
     "output_type": "execute_result"
    }
   ],
   "source": [
    "sample_df['Author Info'][0]"
   ]
  },
  {
   "cell_type": "markdown",
   "id": "ec243ba8",
   "metadata": {},
   "source": [
    "우선, Current / Former로 전직자, 현직자를 구분할 수 있으며 이름은 익명처리 되어있다.\n",
    "직무가 무엇인지 적혀있고, 리뷰를 적은 날짜를 알 수 있다."
   ]
  },
  {
   "cell_type": "markdown",
   "id": "e1e1c560",
   "metadata": {},
   "source": [
    "## 리뷰에 들어가는 단어 익히기"
   ]
  },
  {
   "cell_type": "markdown",
   "id": "e8493c44",
   "metadata": {},
   "source": [
    "이런데 특성상, 약어가 많을 것이다. 약어를 어떻게 처리할 것인지에 대해 고민해야 하기에, 리뷰를 직접 읽어보며 전처리해야 할 것이다."
   ]
  },
  {
   "cell_type": "code",
   "execution_count": 8,
   "id": "85b0b6ba",
   "metadata": {},
   "outputs": [
    {
     "data": {
      "text/plain": [
       "0                      Great projects but terrible wlb\n",
       "1                                 Good company overall\n",
       "2                                                    A\n",
       "3                             Great company in general\n",
       "4                                             Poor wlb\n",
       "5                    I like working here and it’s IS&T\n",
       "6    I was a contract designer so my feedback is ba...\n",
       "7                     Minimal perks and average salary\n",
       "8                                  Top down management\n",
       "9                            Operates in its own style\n",
       "Name: Description, dtype: object"
      ]
     },
     "execution_count": 8,
     "metadata": {},
     "output_type": "execute_result"
    }
   ],
   "source": [
    "sample_df.Description[:10]"
   ]
  },
  {
   "cell_type": "markdown",
   "id": "f52aed20",
   "metadata": {},
   "source": [
    "- perks : Perquisite, 급료 이외의 보너스.\n",
    "- wlb :work life balance"
   ]
  },
  {
   "cell_type": "markdown",
   "id": "16d32470",
   "metadata": {},
   "source": [
    "분석할 수 있는 문제에 대해 고민해보고자 한다.\n",
    "- 회사별 퇴사 비율 / 평점 비교\n",
    "- 회사별 퇴사자들의 리뷰 분석\n",
    "- 회사별 장점 / 단점 주요 어휘 분석"
   ]
  },
  {
   "cell_type": "code",
   "execution_count": null,
   "id": "e17022b9",
   "metadata": {},
   "outputs": [],
   "source": []
  }
 ],
 "metadata": {
  "kernelspec": {
   "display_name": "Python 3",
   "language": "python",
   "name": "python3"
  },
  "language_info": {
   "codemirror_mode": {
    "name": "ipython",
    "version": 3
   },
   "file_extension": ".py",
   "mimetype": "text/x-python",
   "name": "python",
   "nbconvert_exporter": "python",
   "pygments_lexer": "ipython3",
   "version": "3.8.8"
  }
 },
 "nbformat": 4,
 "nbformat_minor": 5
}
