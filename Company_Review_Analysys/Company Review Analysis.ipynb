{
 "cells": [
  {
   "cell_type": "markdown",
   "id": "f7489083",
   "metadata": {},
   "source": [
    "# Company Reviews Analysis"
   ]
  },
  {
   "cell_type": "markdown",
   "id": "909ca00f",
   "metadata": {},
   "source": [
    "Kaggle에 있는 Blind에 올라온 기업 review data를 바탕으로, 해외 기업별 분위기 및 퇴사 이유 등을 분석해보고,\n",
    "기업별 점수대 비교 등을 진행해보고자 한다."
   ]
  },
  {
   "cell_type": "code",
   "execution_count": 1,
   "id": "c2a77864",
   "metadata": {},
   "outputs": [],
   "source": [
    "import numpy as np\n",
    "import pandas as pd\n",
    "import seaborn as sns\n",
    "import matplotlib.pyplot as plt"
   ]
  },
  {
   "cell_type": "markdown",
   "id": "6f2e3b1e",
   "metadata": {},
   "source": [
    "## Review_data example check"
   ]
  },
  {
   "cell_type": "markdown",
   "id": "b8e905ef",
   "metadata": {},
   "source": [
    "예시로, apple 리뷰 데이터를 한번 열람해보자."
   ]
  },
  {
   "cell_type": "code",
   "execution_count": 2,
   "id": "aefdea65",
   "metadata": {},
   "outputs": [],
   "source": [
    "sample_file = 'C:/Users/USER/Desktop/Data_projects/Company_Review_Analysys/reviews/Apple/apple-data.csv'\n",
    "sample_df = pd.read_csv(sample_file)"
   ]
  },
  {
   "cell_type": "code",
   "execution_count": 3,
   "id": "c792c260",
   "metadata": {},
   "outputs": [
    {
     "data": {
      "text/html": [
       "<div>\n",
       "<style scoped>\n",
       "    .dataframe tbody tr th:only-of-type {\n",
       "        vertical-align: middle;\n",
       "    }\n",
       "\n",
       "    .dataframe tbody tr th {\n",
       "        vertical-align: top;\n",
       "    }\n",
       "\n",
       "    .dataframe thead th {\n",
       "        text-align: right;\n",
       "    }\n",
       "</style>\n",
       "<table border=\"1\" class=\"dataframe\">\n",
       "  <thead>\n",
       "    <tr style=\"text-align: right;\">\n",
       "      <th></th>\n",
       "      <th>Rating</th>\n",
       "      <th>Description</th>\n",
       "      <th>Pros</th>\n",
       "      <th>Cons</th>\n",
       "      <th>Author Info</th>\n",
       "      <th>Resignation Reason</th>\n",
       "    </tr>\n",
       "  </thead>\n",
       "  <tbody>\n",
       "    <tr>\n",
       "      <th>0</th>\n",
       "      <td>3</td>\n",
       "      <td>Great projects but terrible wlb</td>\n",
       "      <td>Great projectsSmart engineersEveryone works ha...</td>\n",
       "      <td>No wlbNo remoteNo perks, just desk and wallsEv...</td>\n",
       "      <td>Verified User Current Employee W********* Acqu...</td>\n",
       "      <td>NaN</td>\n",
       "    </tr>\n",
       "    <tr>\n",
       "      <th>1</th>\n",
       "      <td>4</td>\n",
       "      <td>Good company overall</td>\n",
       "      <td>Good Job security. Never heard of layoffs. Goo...</td>\n",
       "      <td>Frequent re-orgs. Mandatory return to office p...</td>\n",
       "      <td>Verified User Current Employee q***** Software...</td>\n",
       "      <td>NaN</td>\n",
       "    </tr>\n",
       "    <tr>\n",
       "      <th>2</th>\n",
       "      <td>5</td>\n",
       "      <td>A</td>\n",
       "      <td>Good company, strong leader ship, believe in t...</td>\n",
       "      <td>No free food No hybrid work culture No perks p...</td>\n",
       "      <td>Verified User Current Employee C********* Engi...</td>\n",
       "      <td>NaN</td>\n",
       "    </tr>\n",
       "    <tr>\n",
       "      <th>3</th>\n",
       "      <td>5</td>\n",
       "      <td>Great company in general</td>\n",
       "      <td>Immediate managers are caringAble to start and...</td>\n",
       "      <td>Job is very monotonousNot much opportunities t...</td>\n",
       "      <td>Verified User Current Employee h********* Cont...</td>\n",
       "      <td>NaN</td>\n",
       "    </tr>\n",
       "    <tr>\n",
       "      <th>4</th>\n",
       "      <td>4</td>\n",
       "      <td>Poor wlb</td>\n",
       "      <td>Smart engineers, challenging problems, cloud a...</td>\n",
       "      <td>Limited growth, lots of politics, no wfh, comp...</td>\n",
       "      <td>Verified User Current Employee G***** Engineer...</td>\n",
       "      <td>NaN</td>\n",
       "    </tr>\n",
       "    <tr>\n",
       "      <th>...</th>\n",
       "      <td>...</td>\n",
       "      <td>...</td>\n",
       "      <td>...</td>\n",
       "      <td>...</td>\n",
       "      <td>...</td>\n",
       "      <td>...</td>\n",
       "    </tr>\n",
       "    <tr>\n",
       "      <th>1792</th>\n",
       "      <td>3</td>\n",
       "      <td>Depends on your team</td>\n",
       "      <td>Great benefits, great perks. Fun company-wide ...</td>\n",
       "      <td>It was really difficult to work with my team. ...</td>\n",
       "      <td>Verified User Current Employee u********* Mach...</td>\n",
       "      <td>NaN</td>\n",
       "    </tr>\n",
       "    <tr>\n",
       "      <th>1793</th>\n",
       "      <td>3</td>\n",
       "      <td>Wasn't the best</td>\n",
       "      <td>You have the opportunity to work with really s...</td>\n",
       "      <td>Zero opportunity for growth. It's difficult to...</td>\n",
       "      <td>Verified User Former Employee g***** Marketing...</td>\n",
       "      <td>Found a senior role at another company</td>\n",
       "    </tr>\n",
       "    <tr>\n",
       "      <th>1794</th>\n",
       "      <td>4</td>\n",
       "      <td>Dynamic Workplace</td>\n",
       "      <td>It's definitely not easy work. Things are alwa...</td>\n",
       "      <td>Work pressure is high. This can get really str...</td>\n",
       "      <td>Verified User Current Employee r***** Systems ...</td>\n",
       "      <td>NaN</td>\n",
       "    </tr>\n",
       "    <tr>\n",
       "      <th>1795</th>\n",
       "      <td>5</td>\n",
       "      <td>\"Great company with a culture that takes getti...</td>\n",
       "      <td>One thing I’ve learned from talking to people ...</td>\n",
       "      <td>As with lots of tech companies, there are many...</td>\n",
       "      <td>Verified User Current Employee B***** Software...</td>\n",
       "      <td>NaN</td>\n",
       "    </tr>\n",
       "    <tr>\n",
       "      <th>1796</th>\n",
       "      <td>4</td>\n",
       "      <td>Overall a great company, but NO WLB</td>\n",
       "      <td>Good pay, benefits, and culture. I love workin...</td>\n",
       "      <td>Zero work-life balance guaranteed. You always ...</td>\n",
       "      <td>Verified User Current Employee U***** Technica...</td>\n",
       "      <td>NaN</td>\n",
       "    </tr>\n",
       "  </tbody>\n",
       "</table>\n",
       "<p>1797 rows × 6 columns</p>\n",
       "</div>"
      ],
      "text/plain": [
       "      Rating                                        Description  \\\n",
       "0          3                    Great projects but terrible wlb   \n",
       "1          4                               Good company overall   \n",
       "2          5                                                  A   \n",
       "3          5                           Great company in general   \n",
       "4          4                                           Poor wlb   \n",
       "...      ...                                                ...   \n",
       "1792       3                               Depends on your team   \n",
       "1793       3                                    Wasn't the best   \n",
       "1794       4                                  Dynamic Workplace   \n",
       "1795       5  \"Great company with a culture that takes getti...   \n",
       "1796       4                Overall a great company, but NO WLB   \n",
       "\n",
       "                                                   Pros  \\\n",
       "0     Great projectsSmart engineersEveryone works ha...   \n",
       "1     Good Job security. Never heard of layoffs. Goo...   \n",
       "2     Good company, strong leader ship, believe in t...   \n",
       "3     Immediate managers are caringAble to start and...   \n",
       "4     Smart engineers, challenging problems, cloud a...   \n",
       "...                                                 ...   \n",
       "1792  Great benefits, great perks. Fun company-wide ...   \n",
       "1793  You have the opportunity to work with really s...   \n",
       "1794  It's definitely not easy work. Things are alwa...   \n",
       "1795  One thing I’ve learned from talking to people ...   \n",
       "1796  Good pay, benefits, and culture. I love workin...   \n",
       "\n",
       "                                                   Cons  \\\n",
       "0     No wlbNo remoteNo perks, just desk and wallsEv...   \n",
       "1     Frequent re-orgs. Mandatory return to office p...   \n",
       "2     No free food No hybrid work culture No perks p...   \n",
       "3     Job is very monotonousNot much opportunities t...   \n",
       "4     Limited growth, lots of politics, no wfh, comp...   \n",
       "...                                                 ...   \n",
       "1792  It was really difficult to work with my team. ...   \n",
       "1793  Zero opportunity for growth. It's difficult to...   \n",
       "1794  Work pressure is high. This can get really str...   \n",
       "1795  As with lots of tech companies, there are many...   \n",
       "1796  Zero work-life balance guaranteed. You always ...   \n",
       "\n",
       "                                            Author Info  \\\n",
       "0     Verified User Current Employee W********* Acqu...   \n",
       "1     Verified User Current Employee q***** Software...   \n",
       "2     Verified User Current Employee C********* Engi...   \n",
       "3     Verified User Current Employee h********* Cont...   \n",
       "4     Verified User Current Employee G***** Engineer...   \n",
       "...                                                 ...   \n",
       "1792  Verified User Current Employee u********* Mach...   \n",
       "1793  Verified User Former Employee g***** Marketing...   \n",
       "1794  Verified User Current Employee r***** Systems ...   \n",
       "1795  Verified User Current Employee B***** Software...   \n",
       "1796  Verified User Current Employee U***** Technica...   \n",
       "\n",
       "                          Resignation Reason  \n",
       "0                                        NaN  \n",
       "1                                        NaN  \n",
       "2                                        NaN  \n",
       "3                                        NaN  \n",
       "4                                        NaN  \n",
       "...                                      ...  \n",
       "1792                                     NaN  \n",
       "1793  Found a senior role at another company  \n",
       "1794                                     NaN  \n",
       "1795                                     NaN  \n",
       "1796                                     NaN  \n",
       "\n",
       "[1797 rows x 6 columns]"
      ]
     },
     "execution_count": 3,
     "metadata": {},
     "output_type": "execute_result"
    }
   ],
   "source": [
    "sample_df"
   ]
  },
  {
   "cell_type": "markdown",
   "id": "a85984b2",
   "metadata": {},
   "source": [
    "- Rating : 회사에 대한 평가\n",
    "- Description : 총평 요약\n",
    "- Pros : 장점.\n",
    "- cons : 단점.\n",
    "- Author Info : 쓴 사람에 대한 정보.\n",
    "- Resignation Reason : 퇴사 이유"
   ]
  },
  {
   "cell_type": "code",
   "execution_count": 4,
   "id": "4b4dfe3e",
   "metadata": {
    "scrolled": true
   },
   "outputs": [
    {
     "name": "stdout",
     "output_type": "stream",
     "text": [
      "<class 'pandas.core.frame.DataFrame'>\n",
      "RangeIndex: 1797 entries, 0 to 1796\n",
      "Data columns (total 6 columns):\n",
      " #   Column              Non-Null Count  Dtype \n",
      "---  ------              --------------  ----- \n",
      " 0   Rating              1797 non-null   int64 \n",
      " 1   Description         1797 non-null   object\n",
      " 2   Pros                1797 non-null   object\n",
      " 3   Cons                1797 non-null   object\n",
      " 4   Author Info         1797 non-null   object\n",
      " 5   Resignation Reason  54 non-null     object\n",
      "dtypes: int64(1), object(5)\n",
      "memory usage: 84.4+ KB\n"
     ]
    }
   ],
   "source": [
    "sample_df.info()"
   ]
  },
  {
   "cell_type": "markdown",
   "id": "2989eba2",
   "metadata": {},
   "source": [
    "다음은 Author info를 확인해 보자."
   ]
  },
  {
   "cell_type": "code",
   "execution_count": 5,
   "id": "1b39a338",
   "metadata": {},
   "outputs": [
    {
     "data": {
      "text/plain": [
       "'Verified User Current Employee W********* Acquisition Program Manager - May 6, 2022'"
      ]
     },
     "execution_count": 5,
     "metadata": {},
     "output_type": "execute_result"
    }
   ],
   "source": [
    "sample_df['Author Info'][0]"
   ]
  },
  {
   "cell_type": "markdown",
   "id": "ec243ba8",
   "metadata": {},
   "source": [
    "우선, Current / Former로 전직자, 현직자를 구분할 수 있으며 이름은 익명처리 되어있다.\n",
    "직무가 무엇인지 적혀있고, 리뷰를 적은 날짜를 알 수 있다."
   ]
  },
  {
   "cell_type": "markdown",
   "id": "e1e1c560",
   "metadata": {},
   "source": [
    "## 리뷰에 들어가는 단어 익히기"
   ]
  },
  {
   "cell_type": "markdown",
   "id": "e8493c44",
   "metadata": {},
   "source": [
    "이런데 특성상, 약어가 많을 것이다. 약어를 어떻게 처리할 것인지에 대해 고민해야 하기에, 리뷰를 직접 읽어보며 전처리해야 할 것이다."
   ]
  },
  {
   "cell_type": "code",
   "execution_count": 6,
   "id": "85b0b6ba",
   "metadata": {},
   "outputs": [
    {
     "data": {
      "text/plain": [
       "0                      Great projects but terrible wlb\n",
       "1                                 Good company overall\n",
       "2                                                    A\n",
       "3                             Great company in general\n",
       "4                                             Poor wlb\n",
       "5                    I like working here and it’s IS&T\n",
       "6    I was a contract designer so my feedback is ba...\n",
       "7                     Minimal perks and average salary\n",
       "8                                  Top down management\n",
       "9                            Operates in its own style\n",
       "Name: Description, dtype: object"
      ]
     },
     "execution_count": 6,
     "metadata": {},
     "output_type": "execute_result"
    }
   ],
   "source": [
    "sample_df.Description[:10]"
   ]
  },
  {
   "cell_type": "markdown",
   "id": "f52aed20",
   "metadata": {},
   "source": [
    "- perks : Perquisite, 급료 이외의 보너스.\n",
    "- wlb :work life balance"
   ]
  },
  {
   "cell_type": "markdown",
   "id": "16d32470",
   "metadata": {},
   "source": [
    "분석할 수 있는 문제에 대해 고민해보고자 한다.\n",
    "- 회사별 퇴사 비율 / 평점 비교\n",
    "- 회사별 퇴사자들의 리뷰 분석\n",
    "- 회사별 장점 / 단점 주요 어휘 분석"
   ]
  },
  {
   "cell_type": "markdown",
   "id": "aaa6ae41",
   "metadata": {},
   "source": [
    "## 회사별 퇴사 비율 / 평점 비교"
   ]
  },
  {
   "cell_type": "markdown",
   "id": "6b82e2e9",
   "metadata": {},
   "source": [
    "모든 회사에 대해서 다루기는 방대하므로, 적당히 몇개의 예시를 비교하려고 한다.\n",
    "이를 위해서는 퇴사비율과 평점에 대한 비교는 필수적이다."
   ]
  },
  {
   "cell_type": "code",
   "execution_count": 7,
   "id": "76cd436b",
   "metadata": {},
   "outputs": [
    {
     "data": {
      "text/plain": [
       "4    817\n",
       "5    542\n",
       "3    334\n",
       "2     72\n",
       "1     32\n",
       "Name: Rating, dtype: int64"
      ]
     },
     "execution_count": 7,
     "metadata": {},
     "output_type": "execute_result"
    }
   ],
   "source": [
    "sample_df.Rating.value_counts()"
   ]
  },
  {
   "cell_type": "code",
   "execution_count": 8,
   "id": "a6b45116",
   "metadata": {
    "scrolled": true
   },
   "outputs": [
    {
     "data": {
      "text/plain": [
       "1743"
      ]
     },
     "execution_count": 8,
     "metadata": {},
     "output_type": "execute_result"
    }
   ],
   "source": [
    "sample_df['Resignation Reason'].isna().sum()"
   ]
  },
  {
   "cell_type": "markdown",
   "id": "f7ccc5d9",
   "metadata": {},
   "source": [
    "위의 두가지를 응용하여, dataframe을 만들려고 하다."
   ]
  },
  {
   "cell_type": "code",
   "execution_count": 9,
   "id": "ffe5e118",
   "metadata": {
    "scrolled": true
   },
   "outputs": [],
   "source": [
    "company_df = pd.DataFrame(columns = ['company', 'r1', 'r2', 'r3', 'r4', 'r5', 'avg_rate', 'low_rate', 'total_reviews',\n",
    "                        'resign_counts', 'resign_rate'])"
   ]
  },
  {
   "cell_type": "code",
   "execution_count": 10,
   "id": "be738a87",
   "metadata": {},
   "outputs": [],
   "source": [
    "company_list = ['Adobe', 'Airbnb', 'Amazon', 'Apple', 'Atlassian',\n",
    "               'Bloomberg', 'Bytedance', 'Cisco', 'Coinbase',\n",
    "               'Deloitte', 'Goldman-Sachs', 'Google', 'IBM',\n",
    "               'Intel', 'Intuit', 'Meta', 'Microsoft', 'Netflix',\n",
    "               'Oracle', 'Salesforce', 'SAP-Labs', 'Stripe',\n",
    "               'Twitter', 'Uber', 'Walmart']\n",
    "root_folder = 'C:/Users/USER/Desktop/Data_projects/Company_Review_Analysys/reviews/'\n",
    "# file명은 company_list의 소문자에 -data가 붙여져 나온다.\n",
    "for i in range(len(company_list)):\n",
    "    cur_comp = company_list[i]\n",
    "    \n",
    "    cur_file = root_folder +company_list[i]+'/'+company_list[i].lower()+'-data.csv'\n",
    "    cur_df = pd.read_csv(cur_file)\n",
    "    \n",
    "    cur_ratings = cur_df.Rating.value_counts()\n",
    "    r1 = cur_ratings[1]\n",
    "    r2 = cur_ratings[2]\n",
    "    r3 = cur_ratings[3]\n",
    "    r4 = cur_ratings[4]\n",
    "    r5 = cur_ratings[5]\n",
    "    \n",
    "    \n",
    "    cur_total_reviews = len(cur_df)\n",
    "    avg_rate = (r1 + 2*r2 + 3*r3 + 4*r4 + 5*r5)/cur_total_reviews\n",
    "    cur_resigns = cur_total_reviews - cur_df['Resignation Reason'].isna().sum()\n",
    "    cur_resign_rate = cur_resigns / cur_total_reviews\n",
    "    low_rate = (r1 + r2)/cur_total_reviews\n",
    "    \n",
    "    company_df.loc[i] = [cur_comp, r1, r2, r3, r4, r5, avg_rate, low_rate,\n",
    "                         cur_total_reviews, cur_resigns, cur_resign_rate]"
   ]
  },
  {
   "cell_type": "code",
   "execution_count": 11,
   "id": "f3e317b9",
   "metadata": {
    "scrolled": true
   },
   "outputs": [
    {
     "data": {
      "text/html": [
       "<div>\n",
       "<style scoped>\n",
       "    .dataframe tbody tr th:only-of-type {\n",
       "        vertical-align: middle;\n",
       "    }\n",
       "\n",
       "    .dataframe tbody tr th {\n",
       "        vertical-align: top;\n",
       "    }\n",
       "\n",
       "    .dataframe thead th {\n",
       "        text-align: right;\n",
       "    }\n",
       "</style>\n",
       "<table border=\"1\" class=\"dataframe\">\n",
       "  <thead>\n",
       "    <tr style=\"text-align: right;\">\n",
       "      <th></th>\n",
       "      <th>company</th>\n",
       "      <th>r1</th>\n",
       "      <th>r2</th>\n",
       "      <th>r3</th>\n",
       "      <th>r4</th>\n",
       "      <th>r5</th>\n",
       "      <th>avg_rate</th>\n",
       "      <th>low_rate</th>\n",
       "      <th>total_reviews</th>\n",
       "      <th>resign_counts</th>\n",
       "      <th>resign_rate</th>\n",
       "    </tr>\n",
       "  </thead>\n",
       "  <tbody>\n",
       "    <tr>\n",
       "      <th>0</th>\n",
       "      <td>Adobe</td>\n",
       "      <td>23</td>\n",
       "      <td>23</td>\n",
       "      <td>127</td>\n",
       "      <td>430</td>\n",
       "      <td>351</td>\n",
       "      <td>4.114256</td>\n",
       "      <td>0.048218</td>\n",
       "      <td>954</td>\n",
       "      <td>20</td>\n",
       "      <td>0.020964</td>\n",
       "    </tr>\n",
       "    <tr>\n",
       "      <th>1</th>\n",
       "      <td>Airbnb</td>\n",
       "      <td>29</td>\n",
       "      <td>34</td>\n",
       "      <td>121</td>\n",
       "      <td>197</td>\n",
       "      <td>134</td>\n",
       "      <td>3.724272</td>\n",
       "      <td>0.122330</td>\n",
       "      <td>515</td>\n",
       "      <td>17</td>\n",
       "      <td>0.033010</td>\n",
       "    </tr>\n",
       "    <tr>\n",
       "      <th>2</th>\n",
       "      <td>Amazon</td>\n",
       "      <td>799</td>\n",
       "      <td>1029</td>\n",
       "      <td>3393</td>\n",
       "      <td>3658</td>\n",
       "      <td>1018</td>\n",
       "      <td>3.309892</td>\n",
       "      <td>0.184702</td>\n",
       "      <td>9897</td>\n",
       "      <td>247</td>\n",
       "      <td>0.024957</td>\n",
       "    </tr>\n",
       "    <tr>\n",
       "      <th>3</th>\n",
       "      <td>Apple</td>\n",
       "      <td>32</td>\n",
       "      <td>72</td>\n",
       "      <td>334</td>\n",
       "      <td>817</td>\n",
       "      <td>542</td>\n",
       "      <td>3.982193</td>\n",
       "      <td>0.057874</td>\n",
       "      <td>1797</td>\n",
       "      <td>54</td>\n",
       "      <td>0.030050</td>\n",
       "    </tr>\n",
       "    <tr>\n",
       "      <th>4</th>\n",
       "      <td>Atlassian</td>\n",
       "      <td>4</td>\n",
       "      <td>15</td>\n",
       "      <td>47</td>\n",
       "      <td>172</td>\n",
       "      <td>220</td>\n",
       "      <td>4.286026</td>\n",
       "      <td>0.041485</td>\n",
       "      <td>458</td>\n",
       "      <td>9</td>\n",
       "      <td>0.019651</td>\n",
       "    </tr>\n",
       "    <tr>\n",
       "      <th>5</th>\n",
       "      <td>Bloomberg</td>\n",
       "      <td>17</td>\n",
       "      <td>29</td>\n",
       "      <td>187</td>\n",
       "      <td>618</td>\n",
       "      <td>265</td>\n",
       "      <td>3.972222</td>\n",
       "      <td>0.041219</td>\n",
       "      <td>1116</td>\n",
       "      <td>26</td>\n",
       "      <td>0.023297</td>\n",
       "    </tr>\n",
       "    <tr>\n",
       "      <th>6</th>\n",
       "      <td>Bytedance</td>\n",
       "      <td>70</td>\n",
       "      <td>91</td>\n",
       "      <td>225</td>\n",
       "      <td>197</td>\n",
       "      <td>105</td>\n",
       "      <td>3.255814</td>\n",
       "      <td>0.234012</td>\n",
       "      <td>688</td>\n",
       "      <td>28</td>\n",
       "      <td>0.040698</td>\n",
       "    </tr>\n",
       "    <tr>\n",
       "      <th>7</th>\n",
       "      <td>Cisco</td>\n",
       "      <td>39</td>\n",
       "      <td>85</td>\n",
       "      <td>475</td>\n",
       "      <td>643</td>\n",
       "      <td>246</td>\n",
       "      <td>3.653226</td>\n",
       "      <td>0.083333</td>\n",
       "      <td>1488</td>\n",
       "      <td>41</td>\n",
       "      <td>0.027554</td>\n",
       "    </tr>\n",
       "    <tr>\n",
       "      <th>8</th>\n",
       "      <td>Coinbase</td>\n",
       "      <td>23</td>\n",
       "      <td>14</td>\n",
       "      <td>48</td>\n",
       "      <td>99</td>\n",
       "      <td>121</td>\n",
       "      <td>3.921311</td>\n",
       "      <td>0.121311</td>\n",
       "      <td>305</td>\n",
       "      <td>6</td>\n",
       "      <td>0.019672</td>\n",
       "    </tr>\n",
       "    <tr>\n",
       "      <th>9</th>\n",
       "      <td>Deloitte</td>\n",
       "      <td>33</td>\n",
       "      <td>76</td>\n",
       "      <td>346</td>\n",
       "      <td>452</td>\n",
       "      <td>140</td>\n",
       "      <td>3.563515</td>\n",
       "      <td>0.104107</td>\n",
       "      <td>1047</td>\n",
       "      <td>39</td>\n",
       "      <td>0.037249</td>\n",
       "    </tr>\n",
       "    <tr>\n",
       "      <th>10</th>\n",
       "      <td>Goldman-Sachs</td>\n",
       "      <td>38</td>\n",
       "      <td>84</td>\n",
       "      <td>337</td>\n",
       "      <td>344</td>\n",
       "      <td>94</td>\n",
       "      <td>3.414716</td>\n",
       "      <td>0.136009</td>\n",
       "      <td>897</td>\n",
       "      <td>44</td>\n",
       "      <td>0.049052</td>\n",
       "    </tr>\n",
       "    <tr>\n",
       "      <th>11</th>\n",
       "      <td>Google</td>\n",
       "      <td>29</td>\n",
       "      <td>59</td>\n",
       "      <td>484</td>\n",
       "      <td>2331</td>\n",
       "      <td>2412</td>\n",
       "      <td>4.324177</td>\n",
       "      <td>0.016557</td>\n",
       "      <td>5315</td>\n",
       "      <td>104</td>\n",
       "      <td>0.019567</td>\n",
       "    </tr>\n",
       "    <tr>\n",
       "      <th>12</th>\n",
       "      <td>IBM</td>\n",
       "      <td>59</td>\n",
       "      <td>135</td>\n",
       "      <td>553</td>\n",
       "      <td>404</td>\n",
       "      <td>106</td>\n",
       "      <td>3.288783</td>\n",
       "      <td>0.154336</td>\n",
       "      <td>1257</td>\n",
       "      <td>43</td>\n",
       "      <td>0.034208</td>\n",
       "    </tr>\n",
       "    <tr>\n",
       "      <th>13</th>\n",
       "      <td>Intel</td>\n",
       "      <td>45</td>\n",
       "      <td>102</td>\n",
       "      <td>434</td>\n",
       "      <td>491</td>\n",
       "      <td>155</td>\n",
       "      <td>3.496333</td>\n",
       "      <td>0.119804</td>\n",
       "      <td>1227</td>\n",
       "      <td>34</td>\n",
       "      <td>0.027710</td>\n",
       "    </tr>\n",
       "    <tr>\n",
       "      <th>14</th>\n",
       "      <td>Intuit</td>\n",
       "      <td>32</td>\n",
       "      <td>37</td>\n",
       "      <td>170</td>\n",
       "      <td>347</td>\n",
       "      <td>199</td>\n",
       "      <td>3.820382</td>\n",
       "      <td>0.087898</td>\n",
       "      <td>785</td>\n",
       "      <td>13</td>\n",
       "      <td>0.016561</td>\n",
       "    </tr>\n",
       "    <tr>\n",
       "      <th>15</th>\n",
       "      <td>Meta</td>\n",
       "      <td>34</td>\n",
       "      <td>56</td>\n",
       "      <td>309</td>\n",
       "      <td>785</td>\n",
       "      <td>496</td>\n",
       "      <td>3.983929</td>\n",
       "      <td>0.053571</td>\n",
       "      <td>1680</td>\n",
       "      <td>38</td>\n",
       "      <td>0.022619</td>\n",
       "    </tr>\n",
       "    <tr>\n",
       "      <th>16</th>\n",
       "      <td>Microsoft</td>\n",
       "      <td>77</td>\n",
       "      <td>126</td>\n",
       "      <td>900</td>\n",
       "      <td>2986</td>\n",
       "      <td>1740</td>\n",
       "      <td>4.061245</td>\n",
       "      <td>0.034826</td>\n",
       "      <td>5829</td>\n",
       "      <td>103</td>\n",
       "      <td>0.017670</td>\n",
       "    </tr>\n",
       "    <tr>\n",
       "      <th>17</th>\n",
       "      <td>Netflix</td>\n",
       "      <td>5</td>\n",
       "      <td>11</td>\n",
       "      <td>33</td>\n",
       "      <td>98</td>\n",
       "      <td>141</td>\n",
       "      <td>4.246528</td>\n",
       "      <td>0.055556</td>\n",
       "      <td>288</td>\n",
       "      <td>6</td>\n",
       "      <td>0.020833</td>\n",
       "    </tr>\n",
       "    <tr>\n",
       "      <th>18</th>\n",
       "      <td>Oracle</td>\n",
       "      <td>74</td>\n",
       "      <td>147</td>\n",
       "      <td>616</td>\n",
       "      <td>481</td>\n",
       "      <td>151</td>\n",
       "      <td>3.332199</td>\n",
       "      <td>0.150442</td>\n",
       "      <td>1469</td>\n",
       "      <td>29</td>\n",
       "      <td>0.019741</td>\n",
       "    </tr>\n",
       "    <tr>\n",
       "      <th>19</th>\n",
       "      <td>Salesforce</td>\n",
       "      <td>30</td>\n",
       "      <td>50</td>\n",
       "      <td>269</td>\n",
       "      <td>789</td>\n",
       "      <td>594</td>\n",
       "      <td>4.077945</td>\n",
       "      <td>0.046189</td>\n",
       "      <td>1732</td>\n",
       "      <td>38</td>\n",
       "      <td>0.021940</td>\n",
       "    </tr>\n",
       "    <tr>\n",
       "      <th>20</th>\n",
       "      <td>SAP-Labs</td>\n",
       "      <td>21</td>\n",
       "      <td>50</td>\n",
       "      <td>253</td>\n",
       "      <td>337</td>\n",
       "      <td>161</td>\n",
       "      <td>3.689781</td>\n",
       "      <td>0.086375</td>\n",
       "      <td>822</td>\n",
       "      <td>11</td>\n",
       "      <td>0.013382</td>\n",
       "    </tr>\n",
       "    <tr>\n",
       "      <th>21</th>\n",
       "      <td>Stripe</td>\n",
       "      <td>21</td>\n",
       "      <td>35</td>\n",
       "      <td>93</td>\n",
       "      <td>178</td>\n",
       "      <td>169</td>\n",
       "      <td>3.885081</td>\n",
       "      <td>0.112903</td>\n",
       "      <td>496</td>\n",
       "      <td>22</td>\n",
       "      <td>0.044355</td>\n",
       "    </tr>\n",
       "    <tr>\n",
       "      <th>22</th>\n",
       "      <td>Twitter</td>\n",
       "      <td>19</td>\n",
       "      <td>24</td>\n",
       "      <td>137</td>\n",
       "      <td>307</td>\n",
       "      <td>198</td>\n",
       "      <td>3.935766</td>\n",
       "      <td>0.062774</td>\n",
       "      <td>685</td>\n",
       "      <td>22</td>\n",
       "      <td>0.032117</td>\n",
       "    </tr>\n",
       "    <tr>\n",
       "      <th>23</th>\n",
       "      <td>Uber</td>\n",
       "      <td>59</td>\n",
       "      <td>117</td>\n",
       "      <td>446</td>\n",
       "      <td>701</td>\n",
       "      <td>356</td>\n",
       "      <td>3.701608</td>\n",
       "      <td>0.104824</td>\n",
       "      <td>1679</td>\n",
       "      <td>49</td>\n",
       "      <td>0.029184</td>\n",
       "    </tr>\n",
       "    <tr>\n",
       "      <th>24</th>\n",
       "      <td>Walmart</td>\n",
       "      <td>71</td>\n",
       "      <td>144</td>\n",
       "      <td>525</td>\n",
       "      <td>499</td>\n",
       "      <td>138</td>\n",
       "      <td>3.355120</td>\n",
       "      <td>0.156137</td>\n",
       "      <td>1377</td>\n",
       "      <td>38</td>\n",
       "      <td>0.027596</td>\n",
       "    </tr>\n",
       "  </tbody>\n",
       "</table>\n",
       "</div>"
      ],
      "text/plain": [
       "          company   r1    r2    r3    r4    r5  avg_rate  low_rate  \\\n",
       "0           Adobe   23    23   127   430   351  4.114256  0.048218   \n",
       "1          Airbnb   29    34   121   197   134  3.724272  0.122330   \n",
       "2          Amazon  799  1029  3393  3658  1018  3.309892  0.184702   \n",
       "3           Apple   32    72   334   817   542  3.982193  0.057874   \n",
       "4       Atlassian    4    15    47   172   220  4.286026  0.041485   \n",
       "5       Bloomberg   17    29   187   618   265  3.972222  0.041219   \n",
       "6       Bytedance   70    91   225   197   105  3.255814  0.234012   \n",
       "7           Cisco   39    85   475   643   246  3.653226  0.083333   \n",
       "8        Coinbase   23    14    48    99   121  3.921311  0.121311   \n",
       "9        Deloitte   33    76   346   452   140  3.563515  0.104107   \n",
       "10  Goldman-Sachs   38    84   337   344    94  3.414716  0.136009   \n",
       "11         Google   29    59   484  2331  2412  4.324177  0.016557   \n",
       "12            IBM   59   135   553   404   106  3.288783  0.154336   \n",
       "13          Intel   45   102   434   491   155  3.496333  0.119804   \n",
       "14         Intuit   32    37   170   347   199  3.820382  0.087898   \n",
       "15           Meta   34    56   309   785   496  3.983929  0.053571   \n",
       "16      Microsoft   77   126   900  2986  1740  4.061245  0.034826   \n",
       "17        Netflix    5    11    33    98   141  4.246528  0.055556   \n",
       "18         Oracle   74   147   616   481   151  3.332199  0.150442   \n",
       "19     Salesforce   30    50   269   789   594  4.077945  0.046189   \n",
       "20       SAP-Labs   21    50   253   337   161  3.689781  0.086375   \n",
       "21         Stripe   21    35    93   178   169  3.885081  0.112903   \n",
       "22        Twitter   19    24   137   307   198  3.935766  0.062774   \n",
       "23           Uber   59   117   446   701   356  3.701608  0.104824   \n",
       "24        Walmart   71   144   525   499   138  3.355120  0.156137   \n",
       "\n",
       "   total_reviews resign_counts  resign_rate  \n",
       "0            954            20     0.020964  \n",
       "1            515            17     0.033010  \n",
       "2           9897           247     0.024957  \n",
       "3           1797            54     0.030050  \n",
       "4            458             9     0.019651  \n",
       "5           1116            26     0.023297  \n",
       "6            688            28     0.040698  \n",
       "7           1488            41     0.027554  \n",
       "8            305             6     0.019672  \n",
       "9           1047            39     0.037249  \n",
       "10           897            44     0.049052  \n",
       "11          5315           104     0.019567  \n",
       "12          1257            43     0.034208  \n",
       "13          1227            34     0.027710  \n",
       "14           785            13     0.016561  \n",
       "15          1680            38     0.022619  \n",
       "16          5829           103     0.017670  \n",
       "17           288             6     0.020833  \n",
       "18          1469            29     0.019741  \n",
       "19          1732            38     0.021940  \n",
       "20           822            11     0.013382  \n",
       "21           496            22     0.044355  \n",
       "22           685            22     0.032117  \n",
       "23          1679            49     0.029184  \n",
       "24          1377            38     0.027596  "
      ]
     },
     "execution_count": 11,
     "metadata": {},
     "output_type": "execute_result"
    }
   ],
   "source": [
    "company_df"
   ]
  },
  {
   "cell_type": "markdown",
   "id": "3830df78",
   "metadata": {},
   "source": [
    "우선 보이는 부분만 정리하면 다음과 같다.\n",
    "- 대체적으로 3점 이상의 평점, 5% 미만의 퇴사율을 보이고 있다.\n",
    "- 평점은 대체로 3~4점에 분포되어 있음을 알 수 있다."
   ]
  },
  {
   "cell_type": "markdown",
   "id": "35ada8f3",
   "metadata": {},
   "source": [
    "시각화를 통해서 몇 가지를 간단하게 확인해보자."
   ]
  },
  {
   "cell_type": "code",
   "execution_count": 12,
   "id": "b5f0398d",
   "metadata": {},
   "outputs": [
    {
     "data": {
      "text/plain": [
       "<matplotlib.collections.PathCollection at 0x2185b0a6670>"
      ]
     },
     "execution_count": 12,
     "metadata": {},
     "output_type": "execute_result"
    },
    {
     "data": {
      "image/png": "[encoded data removed]",
      "text/plain": [
       "<Figure size 432x288 with 1 Axes>"
      ]
     },
     "metadata": {
      "needs_background": "light"
     },
     "output_type": "display_data"
    }
   ],
   "source": [
    "plt.scatter(company_df.avg_rate, company_df.resign_rate)"
   ]
  },
  {
   "cell_type": "markdown",
   "id": "4d925227",
   "metadata": {},
   "source": [
    "데이터가 적어서일수도 있지만, 상대적으로 낮은 평점을 보인 기업에서 퇴사율이 2배 이상 차이가 난다.\n",
    "따라서, 단순 평균 평점이 낮다고 퇴사율이 높은 회사라고 말할수는 없어보인다."
   ]
  },
  {
   "cell_type": "markdown",
   "id": "87385f03",
   "metadata": {},
   "source": [
    "2점 이상의 낮은 평점 비율이 높을수록 퇴사율이 높은지 시각화를 통해 확인해보고자 한다."
   ]
  },
  {
   "cell_type": "code",
   "execution_count": 13,
   "id": "e4341597",
   "metadata": {},
   "outputs": [
    {
     "data": {
      "text/plain": [
       "<matplotlib.collections.PathCollection at 0x2185aa605e0>"
      ]
     },
     "execution_count": 13,
     "metadata": {},
     "output_type": "execute_result"
    },
    {
     "data": {
      "image/png": "[encoded data removed]",
      "text/plain": [
       "<Figure size 432x288 with 1 Axes>"
      ]
     },
     "metadata": {
      "needs_background": "light"
     },
     "output_type": "display_data"
    }
   ],
   "source": [
    "plt.scatter(company_df.low_rate, company_df.resign_rate)"
   ]
  },
  {
   "cell_type": "markdown",
   "id": "269f7403",
   "metadata": {},
   "source": [
    "위의 그림에 비해서는, 조금 더 상관관계가 보인다. 실제로 corr를 계산해서 상관관계가 어느정도인지를 확인하자."
   ]
  },
  {
   "cell_type": "code",
   "execution_count": 14,
   "id": "e1462de0",
   "metadata": {},
   "outputs": [
    {
     "data": {
      "text/plain": [
       "array([[ 1.        , -0.46375178],\n",
       "       [-0.46375178,  1.        ]])"
      ]
     },
     "execution_count": 14,
     "metadata": {},
     "output_type": "execute_result"
    }
   ],
   "source": [
    "# 평균 평점과 퇴사율의 상관관계 계산\n",
    "np.corrcoef(company_df.avg_rate, company_df.resign_rate)"
   ]
  },
  {
   "cell_type": "code",
   "execution_count": 15,
   "id": "43755672",
   "metadata": {},
   "outputs": [
    {
     "data": {
      "text/plain": [
       "array([[1.        , 0.49622035],\n",
       "       [0.49622035, 1.        ]])"
      ]
     },
     "execution_count": 15,
     "metadata": {},
     "output_type": "execute_result"
    }
   ],
   "source": [
    "# 평균 평점과 퇴사율의 상관관계 계산\n",
    "np.corrcoef(company_df.low_rate, company_df.resign_rate)"
   ]
  },
  {
   "cell_type": "markdown",
   "id": "c430ec40",
   "metadata": {},
   "source": [
    "실제로는 두 상관관계가 굉장히 비슷하지만, 상관관계가 크게 높지 않다는 것을 알 수 있다.\n",
    "리뷰의 내용을 바탕으로 조금더 "
   ]
  },
  {
   "cell_type": "markdown",
   "id": "ee30b7aa",
   "metadata": {},
   "source": [
    "## sample_df인 apple data를 활용한 전처리 및 예측 모델 생성 계획 수립"
   ]
  },
  {
   "cell_type": "markdown",
   "id": "f74fe215",
   "metadata": {},
   "source": [
    "### 퇴사 예측"
   ]
  },
  {
   "cell_type": "code",
   "execution_count": 16,
   "id": "31cfa13e",
   "metadata": {},
   "outputs": [
    {
     "data": {
      "text/html": [
       "<div>\n",
       "<style scoped>\n",
       "    .dataframe tbody tr th:only-of-type {\n",
       "        vertical-align: middle;\n",
       "    }\n",
       "\n",
       "    .dataframe tbody tr th {\n",
       "        vertical-align: top;\n",
       "    }\n",
       "\n",
       "    .dataframe thead th {\n",
       "        text-align: right;\n",
       "    }\n",
       "</style>\n",
       "<table border=\"1\" class=\"dataframe\">\n",
       "  <thead>\n",
       "    <tr style=\"text-align: right;\">\n",
       "      <th></th>\n",
       "      <th>Rating</th>\n",
       "      <th>Description</th>\n",
       "      <th>Pros</th>\n",
       "      <th>Cons</th>\n",
       "      <th>Author Info</th>\n",
       "      <th>Resignation Reason</th>\n",
       "    </tr>\n",
       "  </thead>\n",
       "  <tbody>\n",
       "    <tr>\n",
       "      <th>0</th>\n",
       "      <td>3</td>\n",
       "      <td>Great projects but terrible wlb</td>\n",
       "      <td>Great projectsSmart engineersEveryone works ha...</td>\n",
       "      <td>No wlbNo remoteNo perks, just desk and wallsEv...</td>\n",
       "      <td>Verified User Current Employee W********* Acqu...</td>\n",
       "      <td>NaN</td>\n",
       "    </tr>\n",
       "    <tr>\n",
       "      <th>1</th>\n",
       "      <td>4</td>\n",
       "      <td>Good company overall</td>\n",
       "      <td>Good Job security. Never heard of layoffs. Goo...</td>\n",
       "      <td>Frequent re-orgs. Mandatory return to office p...</td>\n",
       "      <td>Verified User Current Employee q***** Software...</td>\n",
       "      <td>NaN</td>\n",
       "    </tr>\n",
       "    <tr>\n",
       "      <th>2</th>\n",
       "      <td>5</td>\n",
       "      <td>A</td>\n",
       "      <td>Good company, strong leader ship, believe in t...</td>\n",
       "      <td>No free food No hybrid work culture No perks p...</td>\n",
       "      <td>Verified User Current Employee C********* Engi...</td>\n",
       "      <td>NaN</td>\n",
       "    </tr>\n",
       "    <tr>\n",
       "      <th>3</th>\n",
       "      <td>5</td>\n",
       "      <td>Great company in general</td>\n",
       "      <td>Immediate managers are caringAble to start and...</td>\n",
       "      <td>Job is very monotonousNot much opportunities t...</td>\n",
       "      <td>Verified User Current Employee h********* Cont...</td>\n",
       "      <td>NaN</td>\n",
       "    </tr>\n",
       "    <tr>\n",
       "      <th>4</th>\n",
       "      <td>4</td>\n",
       "      <td>Poor wlb</td>\n",
       "      <td>Smart engineers, challenging problems, cloud a...</td>\n",
       "      <td>Limited growth, lots of politics, no wfh, comp...</td>\n",
       "      <td>Verified User Current Employee G***** Engineer...</td>\n",
       "      <td>NaN</td>\n",
       "    </tr>\n",
       "    <tr>\n",
       "      <th>...</th>\n",
       "      <td>...</td>\n",
       "      <td>...</td>\n",
       "      <td>...</td>\n",
       "      <td>...</td>\n",
       "      <td>...</td>\n",
       "      <td>...</td>\n",
       "    </tr>\n",
       "    <tr>\n",
       "      <th>1792</th>\n",
       "      <td>3</td>\n",
       "      <td>Depends on your team</td>\n",
       "      <td>Great benefits, great perks. Fun company-wide ...</td>\n",
       "      <td>It was really difficult to work with my team. ...</td>\n",
       "      <td>Verified User Current Employee u********* Mach...</td>\n",
       "      <td>NaN</td>\n",
       "    </tr>\n",
       "    <tr>\n",
       "      <th>1793</th>\n",
       "      <td>3</td>\n",
       "      <td>Wasn't the best</td>\n",
       "      <td>You have the opportunity to work with really s...</td>\n",
       "      <td>Zero opportunity for growth. It's difficult to...</td>\n",
       "      <td>Verified User Former Employee g***** Marketing...</td>\n",
       "      <td>Found a senior role at another company</td>\n",
       "    </tr>\n",
       "    <tr>\n",
       "      <th>1794</th>\n",
       "      <td>4</td>\n",
       "      <td>Dynamic Workplace</td>\n",
       "      <td>It's definitely not easy work. Things are alwa...</td>\n",
       "      <td>Work pressure is high. This can get really str...</td>\n",
       "      <td>Verified User Current Employee r***** Systems ...</td>\n",
       "      <td>NaN</td>\n",
       "    </tr>\n",
       "    <tr>\n",
       "      <th>1795</th>\n",
       "      <td>5</td>\n",
       "      <td>\"Great company with a culture that takes getti...</td>\n",
       "      <td>One thing I’ve learned from talking to people ...</td>\n",
       "      <td>As with lots of tech companies, there are many...</td>\n",
       "      <td>Verified User Current Employee B***** Software...</td>\n",
       "      <td>NaN</td>\n",
       "    </tr>\n",
       "    <tr>\n",
       "      <th>1796</th>\n",
       "      <td>4</td>\n",
       "      <td>Overall a great company, but NO WLB</td>\n",
       "      <td>Good pay, benefits, and culture. I love workin...</td>\n",
       "      <td>Zero work-life balance guaranteed. You always ...</td>\n",
       "      <td>Verified User Current Employee U***** Technica...</td>\n",
       "      <td>NaN</td>\n",
       "    </tr>\n",
       "  </tbody>\n",
       "</table>\n",
       "<p>1797 rows × 6 columns</p>\n",
       "</div>"
      ],
      "text/plain": [
       "      Rating                                        Description  \\\n",
       "0          3                    Great projects but terrible wlb   \n",
       "1          4                               Good company overall   \n",
       "2          5                                                  A   \n",
       "3          5                           Great company in general   \n",
       "4          4                                           Poor wlb   \n",
       "...      ...                                                ...   \n",
       "1792       3                               Depends on your team   \n",
       "1793       3                                    Wasn't the best   \n",
       "1794       4                                  Dynamic Workplace   \n",
       "1795       5  \"Great company with a culture that takes getti...   \n",
       "1796       4                Overall a great company, but NO WLB   \n",
       "\n",
       "                                                   Pros  \\\n",
       "0     Great projectsSmart engineersEveryone works ha...   \n",
       "1     Good Job security. Never heard of layoffs. Goo...   \n",
       "2     Good company, strong leader ship, believe in t...   \n",
       "3     Immediate managers are caringAble to start and...   \n",
       "4     Smart engineers, challenging problems, cloud a...   \n",
       "...                                                 ...   \n",
       "1792  Great benefits, great perks. Fun company-wide ...   \n",
       "1793  You have the opportunity to work with really s...   \n",
       "1794  It's definitely not easy work. Things are alwa...   \n",
       "1795  One thing I’ve learned from talking to people ...   \n",
       "1796  Good pay, benefits, and culture. I love workin...   \n",
       "\n",
       "                                                   Cons  \\\n",
       "0     No wlbNo remoteNo perks, just desk and wallsEv...   \n",
       "1     Frequent re-orgs. Mandatory return to office p...   \n",
       "2     No free food No hybrid work culture No perks p...   \n",
       "3     Job is very monotonousNot much opportunities t...   \n",
       "4     Limited growth, lots of politics, no wfh, comp...   \n",
       "...                                                 ...   \n",
       "1792  It was really difficult to work with my team. ...   \n",
       "1793  Zero opportunity for growth. It's difficult to...   \n",
       "1794  Work pressure is high. This can get really str...   \n",
       "1795  As with lots of tech companies, there are many...   \n",
       "1796  Zero work-life balance guaranteed. You always ...   \n",
       "\n",
       "                                            Author Info  \\\n",
       "0     Verified User Current Employee W********* Acqu...   \n",
       "1     Verified User Current Employee q***** Software...   \n",
       "2     Verified User Current Employee C********* Engi...   \n",
       "3     Verified User Current Employee h********* Cont...   \n",
       "4     Verified User Current Employee G***** Engineer...   \n",
       "...                                                 ...   \n",
       "1792  Verified User Current Employee u********* Mach...   \n",
       "1793  Verified User Former Employee g***** Marketing...   \n",
       "1794  Verified User Current Employee r***** Systems ...   \n",
       "1795  Verified User Current Employee B***** Software...   \n",
       "1796  Verified User Current Employee U***** Technica...   \n",
       "\n",
       "                          Resignation Reason  \n",
       "0                                        NaN  \n",
       "1                                        NaN  \n",
       "2                                        NaN  \n",
       "3                                        NaN  \n",
       "4                                        NaN  \n",
       "...                                      ...  \n",
       "1792                                     NaN  \n",
       "1793  Found a senior role at another company  \n",
       "1794                                     NaN  \n",
       "1795                                     NaN  \n",
       "1796                                     NaN  \n",
       "\n",
       "[1797 rows x 6 columns]"
      ]
     },
     "execution_count": 16,
     "metadata": {},
     "output_type": "execute_result"
    }
   ],
   "source": [
    "sample_df"
   ]
  },
  {
   "cell_type": "markdown",
   "id": "2b7615a9",
   "metadata": {},
   "source": [
    "우선은 매우 간단하게, Tf_Idf를 활용하려고 한다.\n",
    "이를 위해서 퇴사 여부 변수를 만들고, train/test set을 만들어 학습하다."
   ]
  },
  {
   "cell_type": "code",
   "execution_count": 29,
   "id": "72b3b4e7",
   "metadata": {},
   "outputs": [],
   "source": [
    "# step 1/ Resign 여부 만들기\n",
    "sample_df['resign'] = sample_df['Resignation Reason'].apply(lambda x : 0 if  pd.isna(x) == True else 1)"
   ]
  },
  {
   "cell_type": "code",
   "execution_count": 30,
   "id": "abf41ea2",
   "metadata": {},
   "outputs": [
    {
     "data": {
      "text/html": [
       "<div>\n",
       "<style scoped>\n",
       "    .dataframe tbody tr th:only-of-type {\n",
       "        vertical-align: middle;\n",
       "    }\n",
       "\n",
       "    .dataframe tbody tr th {\n",
       "        vertical-align: top;\n",
       "    }\n",
       "\n",
       "    .dataframe thead th {\n",
       "        text-align: right;\n",
       "    }\n",
       "</style>\n",
       "<table border=\"1\" class=\"dataframe\">\n",
       "  <thead>\n",
       "    <tr style=\"text-align: right;\">\n",
       "      <th></th>\n",
       "      <th>Rating</th>\n",
       "      <th>Description</th>\n",
       "      <th>Pros</th>\n",
       "      <th>Cons</th>\n",
       "      <th>Author Info</th>\n",
       "      <th>Resignation Reason</th>\n",
       "      <th>resign</th>\n",
       "    </tr>\n",
       "  </thead>\n",
       "  <tbody>\n",
       "    <tr>\n",
       "      <th>0</th>\n",
       "      <td>3</td>\n",
       "      <td>Great projects but terrible wlb</td>\n",
       "      <td>Great projectsSmart engineersEveryone works ha...</td>\n",
       "      <td>No wlbNo remoteNo perks, just desk and wallsEv...</td>\n",
       "      <td>Verified User Current Employee W********* Acqu...</td>\n",
       "      <td>NaN</td>\n",
       "      <td>0</td>\n",
       "    </tr>\n",
       "    <tr>\n",
       "      <th>1</th>\n",
       "      <td>4</td>\n",
       "      <td>Good company overall</td>\n",
       "      <td>Good Job security. Never heard of layoffs. Goo...</td>\n",
       "      <td>Frequent re-orgs. Mandatory return to office p...</td>\n",
       "      <td>Verified User Current Employee q***** Software...</td>\n",
       "      <td>NaN</td>\n",
       "      <td>0</td>\n",
       "    </tr>\n",
       "    <tr>\n",
       "      <th>2</th>\n",
       "      <td>5</td>\n",
       "      <td>A</td>\n",
       "      <td>Good company, strong leader ship, believe in t...</td>\n",
       "      <td>No free food No hybrid work culture No perks p...</td>\n",
       "      <td>Verified User Current Employee C********* Engi...</td>\n",
       "      <td>NaN</td>\n",
       "      <td>0</td>\n",
       "    </tr>\n",
       "    <tr>\n",
       "      <th>3</th>\n",
       "      <td>5</td>\n",
       "      <td>Great company in general</td>\n",
       "      <td>Immediate managers are caringAble to start and...</td>\n",
       "      <td>Job is very monotonousNot much opportunities t...</td>\n",
       "      <td>Verified User Current Employee h********* Cont...</td>\n",
       "      <td>NaN</td>\n",
       "      <td>0</td>\n",
       "    </tr>\n",
       "    <tr>\n",
       "      <th>4</th>\n",
       "      <td>4</td>\n",
       "      <td>Poor wlb</td>\n",
       "      <td>Smart engineers, challenging problems, cloud a...</td>\n",
       "      <td>Limited growth, lots of politics, no wfh, comp...</td>\n",
       "      <td>Verified User Current Employee G***** Engineer...</td>\n",
       "      <td>NaN</td>\n",
       "      <td>0</td>\n",
       "    </tr>\n",
       "    <tr>\n",
       "      <th>...</th>\n",
       "      <td>...</td>\n",
       "      <td>...</td>\n",
       "      <td>...</td>\n",
       "      <td>...</td>\n",
       "      <td>...</td>\n",
       "      <td>...</td>\n",
       "      <td>...</td>\n",
       "    </tr>\n",
       "    <tr>\n",
       "      <th>1792</th>\n",
       "      <td>3</td>\n",
       "      <td>Depends on your team</td>\n",
       "      <td>Great benefits, great perks. Fun company-wide ...</td>\n",
       "      <td>It was really difficult to work with my team. ...</td>\n",
       "      <td>Verified User Current Employee u********* Mach...</td>\n",
       "      <td>NaN</td>\n",
       "      <td>0</td>\n",
       "    </tr>\n",
       "    <tr>\n",
       "      <th>1793</th>\n",
       "      <td>3</td>\n",
       "      <td>Wasn't the best</td>\n",
       "      <td>You have the opportunity to work with really s...</td>\n",
       "      <td>Zero opportunity for growth. It's difficult to...</td>\n",
       "      <td>Verified User Former Employee g***** Marketing...</td>\n",
       "      <td>Found a senior role at another company</td>\n",
       "      <td>1</td>\n",
       "    </tr>\n",
       "    <tr>\n",
       "      <th>1794</th>\n",
       "      <td>4</td>\n",
       "      <td>Dynamic Workplace</td>\n",
       "      <td>It's definitely not easy work. Things are alwa...</td>\n",
       "      <td>Work pressure is high. This can get really str...</td>\n",
       "      <td>Verified User Current Employee r***** Systems ...</td>\n",
       "      <td>NaN</td>\n",
       "      <td>0</td>\n",
       "    </tr>\n",
       "    <tr>\n",
       "      <th>1795</th>\n",
       "      <td>5</td>\n",
       "      <td>\"Great company with a culture that takes getti...</td>\n",
       "      <td>One thing I’ve learned from talking to people ...</td>\n",
       "      <td>As with lots of tech companies, there are many...</td>\n",
       "      <td>Verified User Current Employee B***** Software...</td>\n",
       "      <td>NaN</td>\n",
       "      <td>0</td>\n",
       "    </tr>\n",
       "    <tr>\n",
       "      <th>1796</th>\n",
       "      <td>4</td>\n",
       "      <td>Overall a great company, but NO WLB</td>\n",
       "      <td>Good pay, benefits, and culture. I love workin...</td>\n",
       "      <td>Zero work-life balance guaranteed. You always ...</td>\n",
       "      <td>Verified User Current Employee U***** Technica...</td>\n",
       "      <td>NaN</td>\n",
       "      <td>0</td>\n",
       "    </tr>\n",
       "  </tbody>\n",
       "</table>\n",
       "<p>1797 rows × 7 columns</p>\n",
       "</div>"
      ],
      "text/plain": [
       "      Rating                                        Description  \\\n",
       "0          3                    Great projects but terrible wlb   \n",
       "1          4                               Good company overall   \n",
       "2          5                                                  A   \n",
       "3          5                           Great company in general   \n",
       "4          4                                           Poor wlb   \n",
       "...      ...                                                ...   \n",
       "1792       3                               Depends on your team   \n",
       "1793       3                                    Wasn't the best   \n",
       "1794       4                                  Dynamic Workplace   \n",
       "1795       5  \"Great company with a culture that takes getti...   \n",
       "1796       4                Overall a great company, but NO WLB   \n",
       "\n",
       "                                                   Pros  \\\n",
       "0     Great projectsSmart engineersEveryone works ha...   \n",
       "1     Good Job security. Never heard of layoffs. Goo...   \n",
       "2     Good company, strong leader ship, believe in t...   \n",
       "3     Immediate managers are caringAble to start and...   \n",
       "4     Smart engineers, challenging problems, cloud a...   \n",
       "...                                                 ...   \n",
       "1792  Great benefits, great perks. Fun company-wide ...   \n",
       "1793  You have the opportunity to work with really s...   \n",
       "1794  It's definitely not easy work. Things are alwa...   \n",
       "1795  One thing I’ve learned from talking to people ...   \n",
       "1796  Good pay, benefits, and culture. I love workin...   \n",
       "\n",
       "                                                   Cons  \\\n",
       "0     No wlbNo remoteNo perks, just desk and wallsEv...   \n",
       "1     Frequent re-orgs. Mandatory return to office p...   \n",
       "2     No free food No hybrid work culture No perks p...   \n",
       "3     Job is very monotonousNot much opportunities t...   \n",
       "4     Limited growth, lots of politics, no wfh, comp...   \n",
       "...                                                 ...   \n",
       "1792  It was really difficult to work with my team. ...   \n",
       "1793  Zero opportunity for growth. It's difficult to...   \n",
       "1794  Work pressure is high. This can get really str...   \n",
       "1795  As with lots of tech companies, there are many...   \n",
       "1796  Zero work-life balance guaranteed. You always ...   \n",
       "\n",
       "                                            Author Info  \\\n",
       "0     Verified User Current Employee W********* Acqu...   \n",
       "1     Verified User Current Employee q***** Software...   \n",
       "2     Verified User Current Employee C********* Engi...   \n",
       "3     Verified User Current Employee h********* Cont...   \n",
       "4     Verified User Current Employee G***** Engineer...   \n",
       "...                                                 ...   \n",
       "1792  Verified User Current Employee u********* Mach...   \n",
       "1793  Verified User Former Employee g***** Marketing...   \n",
       "1794  Verified User Current Employee r***** Systems ...   \n",
       "1795  Verified User Current Employee B***** Software...   \n",
       "1796  Verified User Current Employee U***** Technica...   \n",
       "\n",
       "                          Resignation Reason  resign  \n",
       "0                                        NaN       0  \n",
       "1                                        NaN       0  \n",
       "2                                        NaN       0  \n",
       "3                                        NaN       0  \n",
       "4                                        NaN       0  \n",
       "...                                      ...     ...  \n",
       "1792                                     NaN       0  \n",
       "1793  Found a senior role at another company       1  \n",
       "1794                                     NaN       0  \n",
       "1795                                     NaN       0  \n",
       "1796                                     NaN       0  \n",
       "\n",
       "[1797 rows x 7 columns]"
      ]
     },
     "execution_count": 30,
     "metadata": {},
     "output_type": "execute_result"
    }
   ],
   "source": [
    "sample_df"
   ]
  },
  {
   "cell_type": "markdown",
   "id": "c451ad50",
   "metadata": {},
   "source": [
    "여러가지를 보려고 하지만, 일단은 Description만을 활용해보려고 한다.\n",
    "이 때, 대문자는 모두 소문자로 치환해서 보면 편할 것이다."
   ]
  },
  {
   "cell_type": "code",
   "execution_count": 34,
   "id": "cab96e67",
   "metadata": {},
   "outputs": [],
   "source": [
    "# resign 비율이 높지는 않으므로, 즉 imbalanced 되었다.\n",
    "# 따라서 stratify를 반드시 설정해야 한다.\n",
    "from sklearn.model_selection import train_test_split\n",
    "x_train, x_test, y_train, y_test = train_test_split(sample_df.Description, sample_df.resign, test_size=0.2, \n",
    "                                                    shuffle=True, stratify=sample_df.resign, random_state=42)"
   ]
  },
  {
   "cell_type": "markdown",
   "id": "ab14744e",
   "metadata": {},
   "source": [
    "모델은, 우선은 naive bayes를 활용한다.\n",
    "naive bayes를 통해 기대해볼 수 있는 것은, 특정 단어가 리뷰에 등장할때 퇴사율 예측에 얼마나 예측을 줄지를 볼 수 있다."
   ]
  },
  {
   "cell_type": "code",
   "execution_count": 44,
   "id": "4d9a1392",
   "metadata": {},
   "outputs": [
    {
     "name": "stdout",
     "output_type": "stream",
     "text": [
      "0.0\n"
     ]
    }
   ],
   "source": [
    "# 전처리 및 평가함수 정의, 학습과정\n",
    "from sklearn.metrics import f1_score\n",
    "from sklearn.naive_bayes import MultinomialNB\n",
    "from sklearn.feature_extraction.text import TfidfVectorizer\n",
    "\n",
    "vectorizer = TfidfVectorizer(lowercase = False)\n",
    "x_train_v = vectorizer.fit_transform(x_train)\n",
    "x_test_v = vectorizer.transform(x_test)\n",
    "\n",
    "nb = MultinomialNB(alpha = 0.005)\n",
    "nb.fit(x_train_v, y_train)\n",
    "pred = nb.predict(x_test_v)\n",
    "print(f1_score(y_test, pred))"
   ]
  },
  {
   "cell_type": "code",
   "execution_count": 45,
   "id": "0c049bfd",
   "metadata": {
    "scrolled": true
   },
   "outputs": [
    {
     "data": {
      "text/plain": [
       "array([0, 0, 0, 0, 0, 0, 0, 0, 0, 0, 0, 0, 0, 0, 0, 0, 0, 0, 0, 0, 0, 0,\n",
       "       0, 0, 0, 0, 0, 0, 0, 0, 0, 0, 0, 0, 0, 0, 0, 0, 0, 0, 0, 0, 0, 0,\n",
       "       0, 0, 0, 0, 0, 0, 0, 0, 0, 0, 0, 0, 0, 0, 0, 0, 0, 0, 0, 0, 0, 0,\n",
       "       0, 0, 0, 0, 0, 0, 0, 0, 0, 0, 0, 0, 0, 0, 0, 0, 0, 0, 0, 0, 0, 0,\n",
       "       0, 0, 0, 0, 0, 0, 0, 0, 0, 0, 0, 0, 0, 0, 0, 0, 0, 0, 0, 0, 0, 0,\n",
       "       0, 0, 0, 0, 0, 0, 0, 0, 0, 0, 0, 0, 0, 0, 0, 0, 0, 0, 0, 0, 0, 0,\n",
       "       0, 0, 0, 0, 0, 0, 0, 0, 0, 0, 0, 0, 0, 0, 0, 0, 0, 0, 0, 0, 0, 0,\n",
       "       0, 0, 0, 0, 0, 0, 0, 0, 0, 0, 0, 0, 0, 0, 0, 0, 0, 0, 0, 0, 0, 0,\n",
       "       0, 0, 0, 0, 0, 0, 0, 0, 0, 0, 0, 0, 0, 0, 0, 0, 0, 0, 0, 0, 0, 0,\n",
       "       0, 0, 0, 0, 0, 0, 0, 0, 0, 0, 0, 0, 0, 0, 0, 0, 0, 0, 0, 0, 0, 0,\n",
       "       0, 0, 0, 0, 0, 0, 0, 0, 0, 0, 0, 0, 0, 0, 0, 0, 0, 0, 0, 0, 0, 0,\n",
       "       0, 0, 0, 0, 0, 0, 0, 0, 0, 0, 0, 0, 0, 0, 0, 0, 0, 0, 0, 0, 0, 0,\n",
       "       0, 0, 0, 0, 0, 0, 0, 0, 0, 0, 0, 0, 0, 0, 0, 0, 0, 0, 0, 0, 0, 0,\n",
       "       0, 0, 0, 0, 0, 0, 0, 0, 0, 0, 0, 0, 0, 0, 0, 0, 0, 0, 0, 0, 0, 0,\n",
       "       0, 0, 0, 0, 0, 0, 0, 0, 0, 0, 0, 0, 0, 0, 0, 0, 0, 0, 0, 0, 0, 0,\n",
       "       0, 0, 0, 0, 0, 0, 0, 0, 0, 0, 0, 0, 0, 0, 0, 0, 0, 0, 0, 0, 0, 0,\n",
       "       0, 0, 0, 0, 0, 0, 0, 0], dtype=int64)"
      ]
     },
     "execution_count": 45,
     "metadata": {},
     "output_type": "execute_result"
    }
   ],
   "source": [
    "pred"
   ]
  },
  {
   "cell_type": "markdown",
   "id": "0e5a5ea4",
   "metadata": {},
   "source": [
    "잉? 모두 0이다... 왜그럴까?"
   ]
  },
  {
   "cell_type": "code",
   "execution_count": 48,
   "id": "3fff37d9",
   "metadata": {},
   "outputs": [
    {
     "data": {
      "text/plain": [
       "11"
      ]
     },
     "execution_count": 48,
     "metadata": {},
     "output_type": "execute_result"
    }
   ],
   "source": [
    "sum(y_test)"
   ]
  },
  {
   "cell_type": "markdown",
   "id": "c4795b52",
   "metadata": {},
   "source": [
    "저 수많은 데이터 중, 단 11개를 찾는 imbalanced된 문제가 보인다.\n",
    "imbalanced에서는 naive bayes가 매우 약한 것으로 추정된다."
   ]
  },
  {
   "cell_type": "markdown",
   "id": "431b3058",
   "metadata": {},
   "source": [
    "### rating 예측 문제"
   ]
  },
  {
   "cell_type": "markdown",
   "id": "9280ef6d",
   "metadata": {},
   "source": [
    "rating 예측 문제에선 어떨지? 확인해보자."
   ]
  },
  {
   "cell_type": "code",
   "execution_count": 49,
   "id": "29088e19",
   "metadata": {},
   "outputs": [],
   "source": [
    "from sklearn.model_selection import train_test_split\n",
    "x_train_rate, x_test_rate, y_train, y_test = train_test_split(sample_df.Description, sample_df.Rating, test_size=0.2, \n",
    "                                                    shuffle=True, stratify=sample_df.Rating, random_state=42)"
   ]
  },
  {
   "cell_type": "code",
   "execution_count": 51,
   "id": "e5e78218",
   "metadata": {},
   "outputs": [
    {
     "name": "stdout",
     "output_type": "stream",
     "text": [
      "0.41911541460736196\n"
     ]
    }
   ],
   "source": [
    "vectorizer = TfidfVectorizer(lowercase = False)\n",
    "x_train_rate_v = vectorizer.fit_transform(x_train_rate)\n",
    "x_test_rate_v = vectorizer.transform(x_test_rate)\n",
    "\n",
    "nb = MultinomialNB(alpha = 0.05)\n",
    "nb.fit(x_train_rate_v, y_train)\n",
    "pred = nb.predict(x_test_rate_v)\n",
    "print(f1_score(y_test, pred, average='weighted'))"
   ]
  },
  {
   "cell_type": "markdown",
   "id": "df071542",
   "metadata": {},
   "source": [
    "예측이 실제로 어떻게 이루어지고 있나 확인해보자."
   ]
  },
  {
   "cell_type": "code",
   "execution_count": 52,
   "id": "4f9cae57",
   "metadata": {},
   "outputs": [
    {
     "data": {
      "text/plain": [
       "array([[  0,   1,   0,   4,   1],\n",
       "       [  0,   0,   4,   6,   4],\n",
       "       [  0,   0,  11,  49,   7],\n",
       "       [  0,   0,  13, 109,  42],\n",
       "       [  0,   2,   8,  57,  42]], dtype=int64)"
      ]
     },
     "execution_count": 52,
     "metadata": {},
     "output_type": "execute_result"
    }
   ],
   "source": [
    "from sklearn.metrics import confusion_matrix\n",
    "confusion_matrix(y_test, pred)"
   ]
  },
  {
   "cell_type": "markdown",
   "id": "f4baca70",
   "metadata": {},
   "source": [
    "rating이 낮은 값들에 대해서 예측이 잘 안 맞는 느낌이 강하다.\n",
    "이의 이유는 다음과 같다고 생각할 수 있을 것이다.\n",
    "\n",
    "- wlb와 no wlb 등 단순히 단어를 tf-idf만 줘서는, 좋은 예측을 하기에 어려울 것이다.  -> n-gram을 통한 극복으로 가능.\n",
    "- 그 외 기본적인 전처리나 토큰화가 이루어지지 않아, 유의미하다고 보기가 어렵다."
   ]
  },
  {
   "cell_type": "markdown",
   "id": "f2c44dd5",
   "metadata": {},
   "source": [
    "전처리 계획을 바탕으로 문제를 해결하고자 한다."
   ]
  },
  {
   "cell_type": "markdown",
   "id": "e80800f0",
   "metadata": {},
   "source": [
    "### 추가 전처리 진행하기"
   ]
  },
  {
   "cell_type": "markdown",
   "id": "cc5aa6d8",
   "metadata": {},
   "source": [
    "## 다른 기업에도 이 모델이 잘 적용될까?"
   ]
  },
  {
   "cell_type": "markdown",
   "id": "e2b785a7",
   "metadata": {},
   "source": [
    "## 전체를 예측하기 위한 모델링"
   ]
  },
  {
   "cell_type": "markdown",
   "id": "a6e5fc77",
   "metadata": {},
   "source": [
    "## 더 어려운 모델 써보기"
   ]
  },
  {
   "cell_type": "code",
   "execution_count": null,
   "id": "576a663f",
   "metadata": {},
   "outputs": [],
   "source": []
  }
 ],
 "metadata": {
  "kernelspec": {
   "display_name": "Python 3",
   "language": "python",
   "name": "python3"
  },
  "language_info": {
   "codemirror_mode": {
    "name": "ipython",
    "version": 3
   },
   "file_extension": ".py",
   "mimetype": "text/x-python",
   "name": "python",
   "nbconvert_exporter": "python",
   "pygments_lexer": "ipython3",
   "version": "3.8.8"
  }
 },
 "nbformat": 4,
 "nbformat_minor": 5
}
