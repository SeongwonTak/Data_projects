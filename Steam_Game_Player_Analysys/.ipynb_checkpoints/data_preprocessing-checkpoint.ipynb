{
 "cells": [
  {
   "cell_type": "markdown",
   "id": "1b9553bd",
   "metadata": {},
   "source": [
    "# Data 전처리 과정"
   ]
  },
  {
   "cell_type": "markdown",
   "id": "066a1683",
   "metadata": {},
   "source": [
    "크롤링 과정을 통해 2022.01.11 기준 스팀게임 탑100의 현재까지의 방문자 수 데이터를 긁어왔다.  \n",
    "이를 바탕으로, 시각화 리포트를 만들고 유저의 흐름에 따라 게임군을 나눠서 이에 대해 인사이트를 얻어보는 것이 목표이다.  "
   ]
  },
  {
   "cell_type": "markdown",
   "id": "0914751a",
   "metadata": {},
   "source": [
    "이번에는 sql등을 활용하기 위해 우선적으로는 데이터를 전처리하고자 한다."
   ]
  },
  {
   "cell_type": "code",
   "execution_count": 1,
   "id": "45b61bd2",
   "metadata": {},
   "outputs": [],
   "source": [
    "import pandas as pd"
   ]
  },
  {
   "cell_type": "code",
   "execution_count": 2,
   "id": "2a07a74f",
   "metadata": {},
   "outputs": [],
   "source": [
    "data = pd.read_csv('./steam_game_data.csv', index_col = 0)"
   ]
  },
  {
   "cell_type": "code",
   "execution_count": 3,
   "id": "045efa9b",
   "metadata": {},
   "outputs": [
    {
     "data": {
      "text/html": [
       "<div>\n",
       "<style scoped>\n",
       "    .dataframe tbody tr th:only-of-type {\n",
       "        vertical-align: middle;\n",
       "    }\n",
       "\n",
       "    .dataframe tbody tr th {\n",
       "        vertical-align: top;\n",
       "    }\n",
       "\n",
       "    .dataframe thead th {\n",
       "        text-align: right;\n",
       "    }\n",
       "</style>\n",
       "<table border=\"1\" class=\"dataframe\">\n",
       "  <thead>\n",
       "    <tr style=\"text-align: right;\">\n",
       "      <th></th>\n",
       "      <th>Game</th>\n",
       "      <th>Month</th>\n",
       "      <th>Avg_Players</th>\n",
       "      <th>Peak_Players</th>\n",
       "    </tr>\n",
       "  </thead>\n",
       "  <tbody>\n",
       "    <tr>\n",
       "      <th>0</th>\n",
       "      <td>\\n\\n\\t\\t\\t\\t\\t\\tCounter-Strike: Global Offensi...</td>\n",
       "      <td>\\n\\t\\t\\t\\t\\tDecember 2021\\n\\t\\t\\t\\t</td>\n",
       "      <td>546614.19</td>\n",
       "      <td>950586</td>\n",
       "    </tr>\n",
       "    <tr>\n",
       "      <th>1</th>\n",
       "      <td>\\n\\n\\t\\t\\t\\t\\t\\tCounter-Strike: Global Offensi...</td>\n",
       "      <td>\\n\\t\\t\\t\\t\\tNovember 2021\\n\\t\\t\\t\\t</td>\n",
       "      <td>548161.67</td>\n",
       "      <td>935593</td>\n",
       "    </tr>\n",
       "    <tr>\n",
       "      <th>2</th>\n",
       "      <td>\\n\\n\\t\\t\\t\\t\\t\\tCounter-Strike: Global Offensi...</td>\n",
       "      <td>\\n\\t\\t\\t\\t\\tOctober 2021\\n\\t\\t\\t\\t</td>\n",
       "      <td>512435.85</td>\n",
       "      <td>864966</td>\n",
       "    </tr>\n",
       "    <tr>\n",
       "      <th>3</th>\n",
       "      <td>\\n\\n\\t\\t\\t\\t\\t\\tCounter-Strike: Global Offensi...</td>\n",
       "      <td>\\n\\t\\t\\t\\t\\tSeptember 2021\\n\\t\\t\\t\\t</td>\n",
       "      <td>512350.92</td>\n",
       "      <td>942519</td>\n",
       "    </tr>\n",
       "    <tr>\n",
       "      <th>4</th>\n",
       "      <td>\\n\\n\\t\\t\\t\\t\\t\\tCounter-Strike: Global Offensi...</td>\n",
       "      <td>\\n\\t\\t\\t\\t\\tAugust 2021\\n\\t\\t\\t\\t</td>\n",
       "      <td>512081.96</td>\n",
       "      <td>802544</td>\n",
       "    </tr>\n",
       "    <tr>\n",
       "      <th>...</th>\n",
       "      <td>...</td>\n",
       "      <td>...</td>\n",
       "      <td>...</td>\n",
       "      <td>...</td>\n",
       "    </tr>\n",
       "    <tr>\n",
       "      <th>5424</th>\n",
       "      <td>\\n\\n\\t\\t\\t\\t\\t\\tHollow Knight\\n\\t\\t\\t\\t\\t\\n</td>\n",
       "      <td>\\n\\t\\t\\t\\t\\tApril 2017\\n\\t\\t\\t\\t</td>\n",
       "      <td>728.86</td>\n",
       "      <td>1305</td>\n",
       "    </tr>\n",
       "    <tr>\n",
       "      <th>5425</th>\n",
       "      <td>\\n\\n\\t\\t\\t\\t\\t\\tHollow Knight\\n\\t\\t\\t\\t\\t\\n</td>\n",
       "      <td>\\n\\t\\t\\t\\t\\tMarch 2017\\n\\t\\t\\t\\t</td>\n",
       "      <td>1126.45</td>\n",
       "      <td>2027</td>\n",
       "    </tr>\n",
       "    <tr>\n",
       "      <th>5426</th>\n",
       "      <td>\\n\\n\\t\\t\\t\\t\\t\\tHollow Knight\\n\\t\\t\\t\\t\\t\\n</td>\n",
       "      <td>\\n\\t\\t\\t\\t\\tFebruary 2017\\n\\t\\t\\t\\t</td>\n",
       "      <td>192.30</td>\n",
       "      <td>2077</td>\n",
       "    </tr>\n",
       "    <tr>\n",
       "      <th>5427</th>\n",
       "      <td>\\n\\n\\t\\t\\t\\t\\t\\tHollow Knight\\n\\t\\t\\t\\t\\t\\n</td>\n",
       "      <td>\\n\\t\\t\\t\\t\\tJanuary 2017\\n\\t\\t\\t\\t</td>\n",
       "      <td>1.96</td>\n",
       "      <td>6</td>\n",
       "    </tr>\n",
       "    <tr>\n",
       "      <th>5428</th>\n",
       "      <td>\\n\\n\\t\\t\\t\\t\\t\\tHollow Knight\\n\\t\\t\\t\\t\\t\\n</td>\n",
       "      <td>\\n\\t\\t\\t\\t\\tDecember 2016\\n\\t\\t\\t\\t</td>\n",
       "      <td>0.90</td>\n",
       "      <td>4</td>\n",
       "    </tr>\n",
       "  </tbody>\n",
       "</table>\n",
       "<p>5429 rows × 4 columns</p>\n",
       "</div>"
      ],
      "text/plain": [
       "                                                   Game  \\\n",
       "0     \\n\\n\\t\\t\\t\\t\\t\\tCounter-Strike: Global Offensi...   \n",
       "1     \\n\\n\\t\\t\\t\\t\\t\\tCounter-Strike: Global Offensi...   \n",
       "2     \\n\\n\\t\\t\\t\\t\\t\\tCounter-Strike: Global Offensi...   \n",
       "3     \\n\\n\\t\\t\\t\\t\\t\\tCounter-Strike: Global Offensi...   \n",
       "4     \\n\\n\\t\\t\\t\\t\\t\\tCounter-Strike: Global Offensi...   \n",
       "...                                                 ...   \n",
       "5424        \\n\\n\\t\\t\\t\\t\\t\\tHollow Knight\\n\\t\\t\\t\\t\\t\\n   \n",
       "5425        \\n\\n\\t\\t\\t\\t\\t\\tHollow Knight\\n\\t\\t\\t\\t\\t\\n   \n",
       "5426        \\n\\n\\t\\t\\t\\t\\t\\tHollow Knight\\n\\t\\t\\t\\t\\t\\n   \n",
       "5427        \\n\\n\\t\\t\\t\\t\\t\\tHollow Knight\\n\\t\\t\\t\\t\\t\\n   \n",
       "5428        \\n\\n\\t\\t\\t\\t\\t\\tHollow Knight\\n\\t\\t\\t\\t\\t\\n   \n",
       "\n",
       "                                     Month  Avg_Players  Peak_Players  \n",
       "0      \\n\\t\\t\\t\\t\\tDecember 2021\\n\\t\\t\\t\\t    546614.19        950586  \n",
       "1      \\n\\t\\t\\t\\t\\tNovember 2021\\n\\t\\t\\t\\t    548161.67        935593  \n",
       "2       \\n\\t\\t\\t\\t\\tOctober 2021\\n\\t\\t\\t\\t    512435.85        864966  \n",
       "3     \\n\\t\\t\\t\\t\\tSeptember 2021\\n\\t\\t\\t\\t    512350.92        942519  \n",
       "4        \\n\\t\\t\\t\\t\\tAugust 2021\\n\\t\\t\\t\\t    512081.96        802544  \n",
       "...                                    ...          ...           ...  \n",
       "5424      \\n\\t\\t\\t\\t\\tApril 2017\\n\\t\\t\\t\\t       728.86          1305  \n",
       "5425      \\n\\t\\t\\t\\t\\tMarch 2017\\n\\t\\t\\t\\t      1126.45          2027  \n",
       "5426   \\n\\t\\t\\t\\t\\tFebruary 2017\\n\\t\\t\\t\\t       192.30          2077  \n",
       "5427    \\n\\t\\t\\t\\t\\tJanuary 2017\\n\\t\\t\\t\\t         1.96             6  \n",
       "5428   \\n\\t\\t\\t\\t\\tDecember 2016\\n\\t\\t\\t\\t         0.90             4  \n",
       "\n",
       "[5429 rows x 4 columns]"
      ]
     },
     "execution_count": 3,
     "metadata": {},
     "output_type": "execute_result"
    }
   ],
   "source": [
    "data"
   ]
  },
  {
   "cell_type": "markdown",
   "id": "ef30ba46",
   "metadata": {},
   "source": [
    "이런, 매우 더럽게 나왔다. 그 이유를 확인해보면, 표에 데이터가 들어가면서 공백 문자들이 들어간 것으로 보인다."
   ]
  },
  {
   "cell_type": "code",
   "execution_count": 4,
   "id": "83323567",
   "metadata": {
    "scrolled": true
   },
   "outputs": [
    {
     "data": {
      "text/plain": [
       "'Destiny 2'"
      ]
     },
     "execution_count": 4,
     "metadata": {},
     "output_type": "execute_result"
    }
   ],
   "source": [
    "data.loc[550][0][8:-7]"
   ]
  },
  {
   "cell_type": "code",
   "execution_count": 5,
   "id": "8dd75e73",
   "metadata": {},
   "outputs": [
    {
     "data": {
      "text/plain": [
       "'December 2021'"
      ]
     },
     "execution_count": 5,
     "metadata": {},
     "output_type": "execute_result"
    }
   ],
   "source": [
    "data.loc[0][1][6:-5]"
   ]
  },
  {
   "cell_type": "markdown",
   "id": "b4e50753",
   "metadata": {},
   "source": [
    "우선, \\n와 \\t를 제거하자."
   ]
  },
  {
   "cell_type": "code",
   "execution_count": 6,
   "id": "60ab34e6",
   "metadata": {},
   "outputs": [],
   "source": [
    "data['Game'] = data.Game.apply(lambda s : s[8:-7])\n",
    "data['Month'] = data.Month.apply(lambda s : s[6:-5])"
   ]
  },
  {
   "cell_type": "code",
   "execution_count": 7,
   "id": "49abf6e5",
   "metadata": {},
   "outputs": [
    {
     "data": {
      "text/html": [
       "<div>\n",
       "<style scoped>\n",
       "    .dataframe tbody tr th:only-of-type {\n",
       "        vertical-align: middle;\n",
       "    }\n",
       "\n",
       "    .dataframe tbody tr th {\n",
       "        vertical-align: top;\n",
       "    }\n",
       "\n",
       "    .dataframe thead th {\n",
       "        text-align: right;\n",
       "    }\n",
       "</style>\n",
       "<table border=\"1\" class=\"dataframe\">\n",
       "  <thead>\n",
       "    <tr style=\"text-align: right;\">\n",
       "      <th></th>\n",
       "      <th>Game</th>\n",
       "      <th>Month</th>\n",
       "      <th>Avg_Players</th>\n",
       "      <th>Peak_Players</th>\n",
       "    </tr>\n",
       "  </thead>\n",
       "  <tbody>\n",
       "    <tr>\n",
       "      <th>0</th>\n",
       "      <td>Counter-Strike: Global Offensive</td>\n",
       "      <td>December 2021</td>\n",
       "      <td>546614.19</td>\n",
       "      <td>950586</td>\n",
       "    </tr>\n",
       "    <tr>\n",
       "      <th>1</th>\n",
       "      <td>Counter-Strike: Global Offensive</td>\n",
       "      <td>November 2021</td>\n",
       "      <td>548161.67</td>\n",
       "      <td>935593</td>\n",
       "    </tr>\n",
       "    <tr>\n",
       "      <th>2</th>\n",
       "      <td>Counter-Strike: Global Offensive</td>\n",
       "      <td>October 2021</td>\n",
       "      <td>512435.85</td>\n",
       "      <td>864966</td>\n",
       "    </tr>\n",
       "    <tr>\n",
       "      <th>3</th>\n",
       "      <td>Counter-Strike: Global Offensive</td>\n",
       "      <td>September 2021</td>\n",
       "      <td>512350.92</td>\n",
       "      <td>942519</td>\n",
       "    </tr>\n",
       "    <tr>\n",
       "      <th>4</th>\n",
       "      <td>Counter-Strike: Global Offensive</td>\n",
       "      <td>August 2021</td>\n",
       "      <td>512081.96</td>\n",
       "      <td>802544</td>\n",
       "    </tr>\n",
       "    <tr>\n",
       "      <th>...</th>\n",
       "      <td>...</td>\n",
       "      <td>...</td>\n",
       "      <td>...</td>\n",
       "      <td>...</td>\n",
       "    </tr>\n",
       "    <tr>\n",
       "      <th>5424</th>\n",
       "      <td>Hollow Knight</td>\n",
       "      <td>April 2017</td>\n",
       "      <td>728.86</td>\n",
       "      <td>1305</td>\n",
       "    </tr>\n",
       "    <tr>\n",
       "      <th>5425</th>\n",
       "      <td>Hollow Knight</td>\n",
       "      <td>March 2017</td>\n",
       "      <td>1126.45</td>\n",
       "      <td>2027</td>\n",
       "    </tr>\n",
       "    <tr>\n",
       "      <th>5426</th>\n",
       "      <td>Hollow Knight</td>\n",
       "      <td>February 2017</td>\n",
       "      <td>192.30</td>\n",
       "      <td>2077</td>\n",
       "    </tr>\n",
       "    <tr>\n",
       "      <th>5427</th>\n",
       "      <td>Hollow Knight</td>\n",
       "      <td>January 2017</td>\n",
       "      <td>1.96</td>\n",
       "      <td>6</td>\n",
       "    </tr>\n",
       "    <tr>\n",
       "      <th>5428</th>\n",
       "      <td>Hollow Knight</td>\n",
       "      <td>December 2016</td>\n",
       "      <td>0.90</td>\n",
       "      <td>4</td>\n",
       "    </tr>\n",
       "  </tbody>\n",
       "</table>\n",
       "<p>5429 rows × 4 columns</p>\n",
       "</div>"
      ],
      "text/plain": [
       "                                  Game           Month  Avg_Players  \\\n",
       "0     Counter-Strike: Global Offensive   December 2021    546614.19   \n",
       "1     Counter-Strike: Global Offensive   November 2021    548161.67   \n",
       "2     Counter-Strike: Global Offensive    October 2021    512435.85   \n",
       "3     Counter-Strike: Global Offensive  September 2021    512350.92   \n",
       "4     Counter-Strike: Global Offensive     August 2021    512081.96   \n",
       "...                                ...             ...          ...   \n",
       "5424                     Hollow Knight      April 2017       728.86   \n",
       "5425                     Hollow Knight      March 2017      1126.45   \n",
       "5426                     Hollow Knight   February 2017       192.30   \n",
       "5427                     Hollow Knight    January 2017         1.96   \n",
       "5428                     Hollow Knight   December 2016         0.90   \n",
       "\n",
       "      Peak_Players  \n",
       "0           950586  \n",
       "1           935593  \n",
       "2           864966  \n",
       "3           942519  \n",
       "4           802544  \n",
       "...            ...  \n",
       "5424          1305  \n",
       "5425          2027  \n",
       "5426          2077  \n",
       "5427             6  \n",
       "5428             4  \n",
       "\n",
       "[5429 rows x 4 columns]"
      ]
     },
     "execution_count": 7,
     "metadata": {},
     "output_type": "execute_result"
    }
   ],
   "source": [
    "data"
   ]
  },
  {
   "cell_type": "markdown",
   "id": "29d05012",
   "metadata": {},
   "source": [
    "month를 잘 분리하는 것이중요할 것이다. 이를 잘 분리해보자."
   ]
  },
  {
   "cell_type": "code",
   "execution_count": 8,
   "id": "1bcaa45d",
   "metadata": {},
   "outputs": [],
   "source": [
    "year_dict = {'January': 1, 'February': 2, 'March': 3, 'April': 4, 'May': 5, 'June': 6,\n",
    "             'July': 7, 'August': 8, 'September': 9, 'October': 10, 'November': 11, 'December': 12}"
   ]
  },
  {
   "cell_type": "code",
   "execution_count": 9,
   "id": "e2652c31",
   "metadata": {},
   "outputs": [],
   "source": [
    "data['Year'] = data.Month.apply(lambda s : s[-4:])\n",
    "data['Month'] = data.Month.apply(lambda s : year_dict[s[:-5]])"
   ]
  },
  {
   "cell_type": "code",
   "execution_count": 10,
   "id": "918f60e1",
   "metadata": {},
   "outputs": [
    {
     "data": {
      "text/html": [
       "<div>\n",
       "<style scoped>\n",
       "    .dataframe tbody tr th:only-of-type {\n",
       "        vertical-align: middle;\n",
       "    }\n",
       "\n",
       "    .dataframe tbody tr th {\n",
       "        vertical-align: top;\n",
       "    }\n",
       "\n",
       "    .dataframe thead th {\n",
       "        text-align: right;\n",
       "    }\n",
       "</style>\n",
       "<table border=\"1\" class=\"dataframe\">\n",
       "  <thead>\n",
       "    <tr style=\"text-align: right;\">\n",
       "      <th></th>\n",
       "      <th>Game</th>\n",
       "      <th>Month</th>\n",
       "      <th>Avg_Players</th>\n",
       "      <th>Peak_Players</th>\n",
       "      <th>Year</th>\n",
       "    </tr>\n",
       "  </thead>\n",
       "  <tbody>\n",
       "    <tr>\n",
       "      <th>0</th>\n",
       "      <td>Counter-Strike: Global Offensive</td>\n",
       "      <td>12</td>\n",
       "      <td>546614.19</td>\n",
       "      <td>950586</td>\n",
       "      <td>2021</td>\n",
       "    </tr>\n",
       "    <tr>\n",
       "      <th>1</th>\n",
       "      <td>Counter-Strike: Global Offensive</td>\n",
       "      <td>11</td>\n",
       "      <td>548161.67</td>\n",
       "      <td>935593</td>\n",
       "      <td>2021</td>\n",
       "    </tr>\n",
       "    <tr>\n",
       "      <th>2</th>\n",
       "      <td>Counter-Strike: Global Offensive</td>\n",
       "      <td>10</td>\n",
       "      <td>512435.85</td>\n",
       "      <td>864966</td>\n",
       "      <td>2021</td>\n",
       "    </tr>\n",
       "    <tr>\n",
       "      <th>3</th>\n",
       "      <td>Counter-Strike: Global Offensive</td>\n",
       "      <td>9</td>\n",
       "      <td>512350.92</td>\n",
       "      <td>942519</td>\n",
       "      <td>2021</td>\n",
       "    </tr>\n",
       "    <tr>\n",
       "      <th>4</th>\n",
       "      <td>Counter-Strike: Global Offensive</td>\n",
       "      <td>8</td>\n",
       "      <td>512081.96</td>\n",
       "      <td>802544</td>\n",
       "      <td>2021</td>\n",
       "    </tr>\n",
       "    <tr>\n",
       "      <th>...</th>\n",
       "      <td>...</td>\n",
       "      <td>...</td>\n",
       "      <td>...</td>\n",
       "      <td>...</td>\n",
       "      <td>...</td>\n",
       "    </tr>\n",
       "    <tr>\n",
       "      <th>5424</th>\n",
       "      <td>Hollow Knight</td>\n",
       "      <td>4</td>\n",
       "      <td>728.86</td>\n",
       "      <td>1305</td>\n",
       "      <td>2017</td>\n",
       "    </tr>\n",
       "    <tr>\n",
       "      <th>5425</th>\n",
       "      <td>Hollow Knight</td>\n",
       "      <td>3</td>\n",
       "      <td>1126.45</td>\n",
       "      <td>2027</td>\n",
       "      <td>2017</td>\n",
       "    </tr>\n",
       "    <tr>\n",
       "      <th>5426</th>\n",
       "      <td>Hollow Knight</td>\n",
       "      <td>2</td>\n",
       "      <td>192.30</td>\n",
       "      <td>2077</td>\n",
       "      <td>2017</td>\n",
       "    </tr>\n",
       "    <tr>\n",
       "      <th>5427</th>\n",
       "      <td>Hollow Knight</td>\n",
       "      <td>1</td>\n",
       "      <td>1.96</td>\n",
       "      <td>6</td>\n",
       "      <td>2017</td>\n",
       "    </tr>\n",
       "    <tr>\n",
       "      <th>5428</th>\n",
       "      <td>Hollow Knight</td>\n",
       "      <td>12</td>\n",
       "      <td>0.90</td>\n",
       "      <td>4</td>\n",
       "      <td>2016</td>\n",
       "    </tr>\n",
       "  </tbody>\n",
       "</table>\n",
       "<p>5429 rows × 5 columns</p>\n",
       "</div>"
      ],
      "text/plain": [
       "                                  Game  Month  Avg_Players  Peak_Players  Year\n",
       "0     Counter-Strike: Global Offensive     12    546614.19        950586  2021\n",
       "1     Counter-Strike: Global Offensive     11    548161.67        935593  2021\n",
       "2     Counter-Strike: Global Offensive     10    512435.85        864966  2021\n",
       "3     Counter-Strike: Global Offensive      9    512350.92        942519  2021\n",
       "4     Counter-Strike: Global Offensive      8    512081.96        802544  2021\n",
       "...                                ...    ...          ...           ...   ...\n",
       "5424                     Hollow Knight      4       728.86          1305  2017\n",
       "5425                     Hollow Knight      3      1126.45          2027  2017\n",
       "5426                     Hollow Knight      2       192.30          2077  2017\n",
       "5427                     Hollow Knight      1         1.96             6  2017\n",
       "5428                     Hollow Knight     12         0.90             4  2016\n",
       "\n",
       "[5429 rows x 5 columns]"
      ]
     },
     "execution_count": 10,
     "metadata": {},
     "output_type": "execute_result"
    }
   ],
   "source": [
    "data"
   ]
  },
  {
   "cell_type": "markdown",
   "id": "7d9d3c67",
   "metadata": {},
   "source": [
    "마지막으로, 잘못 들어온 데이터가 있나 확인해보고 전처리 과정을 마무리한다."
   ]
  },
  {
   "cell_type": "code",
   "execution_count": 11,
   "id": "afd759d2",
   "metadata": {},
   "outputs": [
    {
     "data": {
      "text/html": [
       "<div>\n",
       "<style scoped>\n",
       "    .dataframe tbody tr th:only-of-type {\n",
       "        vertical-align: middle;\n",
       "    }\n",
       "\n",
       "    .dataframe tbody tr th {\n",
       "        vertical-align: top;\n",
       "    }\n",
       "\n",
       "    .dataframe thead th {\n",
       "        text-align: right;\n",
       "    }\n",
       "</style>\n",
       "<table border=\"1\" class=\"dataframe\">\n",
       "  <thead>\n",
       "    <tr style=\"text-align: right;\">\n",
       "      <th></th>\n",
       "      <th>Month</th>\n",
       "      <th>Avg_Players</th>\n",
       "      <th>Peak_Players</th>\n",
       "    </tr>\n",
       "  </thead>\n",
       "  <tbody>\n",
       "    <tr>\n",
       "      <th>count</th>\n",
       "      <td>5429.000000</td>\n",
       "      <td>5.429000e+03</td>\n",
       "      <td>5.429000e+03</td>\n",
       "    </tr>\n",
       "    <tr>\n",
       "      <th>mean</th>\n",
       "      <td>6.731811</td>\n",
       "      <td>3.769334e+04</td>\n",
       "      <td>7.035075e+04</td>\n",
       "    </tr>\n",
       "    <tr>\n",
       "      <th>std</th>\n",
       "      <td>3.458766</td>\n",
       "      <td>1.033032e+05</td>\n",
       "      <td>1.940765e+05</td>\n",
       "    </tr>\n",
       "    <tr>\n",
       "      <th>min</th>\n",
       "      <td>1.000000</td>\n",
       "      <td>0.000000e+00</td>\n",
       "      <td>0.000000e+00</td>\n",
       "    </tr>\n",
       "    <tr>\n",
       "      <th>25%</th>\n",
       "      <td>4.000000</td>\n",
       "      <td>6.509930e+03</td>\n",
       "      <td>1.226900e+04</td>\n",
       "    </tr>\n",
       "    <tr>\n",
       "      <th>50%</th>\n",
       "      <td>7.000000</td>\n",
       "      <td>1.215026e+04</td>\n",
       "      <td>2.314500e+04</td>\n",
       "    </tr>\n",
       "    <tr>\n",
       "      <th>75%</th>\n",
       "      <td>10.000000</td>\n",
       "      <td>2.430433e+04</td>\n",
       "      <td>4.663500e+04</td>\n",
       "    </tr>\n",
       "    <tr>\n",
       "      <th>max</th>\n",
       "      <td>12.000000</td>\n",
       "      <td>1.584887e+06</td>\n",
       "      <td>3.236027e+06</td>\n",
       "    </tr>\n",
       "  </tbody>\n",
       "</table>\n",
       "</div>"
      ],
      "text/plain": [
       "             Month   Avg_Players  Peak_Players\n",
       "count  5429.000000  5.429000e+03  5.429000e+03\n",
       "mean      6.731811  3.769334e+04  7.035075e+04\n",
       "std       3.458766  1.033032e+05  1.940765e+05\n",
       "min       1.000000  0.000000e+00  0.000000e+00\n",
       "25%       4.000000  6.509930e+03  1.226900e+04\n",
       "50%       7.000000  1.215026e+04  2.314500e+04\n",
       "75%      10.000000  2.430433e+04  4.663500e+04\n",
       "max      12.000000  1.584887e+06  3.236027e+06"
      ]
     },
     "execution_count": 11,
     "metadata": {},
     "output_type": "execute_result"
    }
   ],
   "source": [
    "data.describe()"
   ]
  },
  {
   "cell_type": "markdown",
   "id": "f23f3e4a",
   "metadata": {},
   "source": [
    "player수가 음수거나 그러진 않다. 또한, month가 1~12로 값이 잘 나왔다."
   ]
  },
  {
   "cell_type": "code",
   "execution_count": 12,
   "id": "a350ee8c",
   "metadata": {},
   "outputs": [
    {
     "name": "stdout",
     "output_type": "stream",
     "text": [
      "<class 'pandas.core.frame.DataFrame'>\n",
      "Int64Index: 5429 entries, 0 to 5428\n",
      "Data columns (total 5 columns):\n",
      " #   Column        Non-Null Count  Dtype  \n",
      "---  ------        --------------  -----  \n",
      " 0   Game          5429 non-null   object \n",
      " 1   Month         5429 non-null   int64  \n",
      " 2   Avg_Players   5429 non-null   float64\n",
      " 3   Peak_Players  5429 non-null   int64  \n",
      " 4   Year          5429 non-null   object \n",
      "dtypes: float64(1), int64(2), object(2)\n",
      "memory usage: 383.5+ KB\n"
     ]
    }
   ],
   "source": [
    "data.info()"
   ]
  },
  {
   "cell_type": "markdown",
   "id": "9ba66224",
   "metadata": {},
   "source": [
    "전체가 non-null이므로, data 정합성에는 큰 문제가 없을 것이다.\n",
    "이제 이를 바탕으로 데이터 시각화를 진행하고, sql을 통해 데이터 추출등을 진행하여 비교할 정보를 뽑아서 진행하자.\n",
    "pandas로도 쉽게 할 수 있지만, 시각화 툴 + google bigquery를 활용하는 것이 이번 프로젝트의 목표이다."
   ]
  },
  {
   "cell_type": "code",
   "execution_count": 13,
   "id": "f24565a9",
   "metadata": {},
   "outputs": [],
   "source": [
    "data.to_csv('prepared_steam_player_time_data.csv')"
   ]
  }
 ],
 "metadata": {
  "kernelspec": {
   "display_name": "Python 3",
   "language": "python",
   "name": "python3"
  },
  "language_info": {
   "codemirror_mode": {
    "name": "ipython",
    "version": 3
   },
   "file_extension": ".py",
   "mimetype": "text/x-python",
   "name": "python",
   "nbconvert_exporter": "python",
   "pygments_lexer": "ipython3",
   "version": "3.8.8"
  }
 },
 "nbformat": 4,
 "nbformat_minor": 5
}
